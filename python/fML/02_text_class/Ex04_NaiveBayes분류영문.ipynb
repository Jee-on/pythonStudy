{
 "cells": [
  {
   "cell_type": "markdown",
   "metadata": {},
   "source": [
    "** Naive Bayes Classifier **\n",
    "\n",
    "* 지도학습의 한 종류로 간단한 분류기\n",
    "* 두 사건을 서로 독립이라 가정하고 각가의 조건부 확률을 계산\n",
    "\n",
    "\n",
    "[예]\n",
    "\n",
    "        i like you         pos        \n",
    "        i hate you         neg        \n",
    "        you like me        neg        \n",
    "        i like her         pos        \n",
    "        i like dog         ???"
   ]
  },
  {
   "cell_type": "code",
   "execution_count": 8,
   "metadata": {},
   "outputs": [],
   "source": [
    "from nltk.tokenize import word_tokenize\n",
    "import nltk"
   ]
  },
  {
   "cell_type": "code",
   "execution_count": 2,
   "metadata": {},
   "outputs": [],
   "source": [
    "\"\"\" 훈련데이타 \"\"\" \n",
    "train = [('i like you', 'pos'), \n",
    "         ('i hate you', 'neg'), \n",
    "         ('you dislike me', 'neg'),\n",
    "         ('i like her', 'pos')]"
   ]
  },
  {
   "cell_type": "code",
   "execution_count": 12,
   "metadata": {
    "scrolled": true
   },
   "outputs": [
    {
     "data": {
      "text/plain": [
       "{'dislike', 'hate', 'her', 'i', 'like', 'me', 'you'}"
      ]
     },
     "execution_count": 12,
     "metadata": {},
     "output_type": "execute_result"
    }
   ],
   "source": [
    "# 훈련문장에서 사용된 단어들 모두 찾기\n",
    "all_words = set(word.lower() for sentence in train \n",
    "                             for word in word_tokenize(sentence[0]))\n",
    "\n",
    "all_words"
   ]
  },
  {
   "cell_type": "code",
   "execution_count": 11,
   "metadata": {},
   "outputs": [
    {
     "data": {
      "text/plain": [
       "[({'i': True,\n",
       "   'dislike': False,\n",
       "   'her': False,\n",
       "   'like': True,\n",
       "   'you': True,\n",
       "   'hate': False,\n",
       "   'me': False},\n",
       "  'pos'),\n",
       " ({'i': True,\n",
       "   'dislike': False,\n",
       "   'her': False,\n",
       "   'like': False,\n",
       "   'you': True,\n",
       "   'hate': True,\n",
       "   'me': False},\n",
       "  'neg'),\n",
       " ({'i': False,\n",
       "   'dislike': True,\n",
       "   'her': False,\n",
       "   'like': False,\n",
       "   'you': True,\n",
       "   'hate': False,\n",
       "   'me': True},\n",
       "  'neg'),\n",
       " ({'i': True,\n",
       "   'dislike': False,\n",
       "   'her': True,\n",
       "   'like': True,\n",
       "   'you': False,\n",
       "   'hate': False,\n",
       "   'me': False},\n",
       "  'pos')]"
      ]
     },
     "execution_count": 11,
     "metadata": {},
     "output_type": "execute_result"
    }
   ],
   "source": [
    "# 위 모든 단어들이 각각 훈련문장에 속한 단어인지 아닌지 확인\n",
    "t = [({word: (word in word_tokenize(x[0])) for word in all_words}, x[1])\n",
    "                                                        for x in train]\n",
    "t"
   ]
  },
  {
   "cell_type": "code",
   "execution_count": 29,
   "metadata": {},
   "outputs": [
    {
     "data": {
      "text/plain": [
       "{'i': True,\n",
       " 'dislike': False,\n",
       " 'her': False,\n",
       " 'like': True,\n",
       " 'you': False,\n",
       " 'hate': True,\n",
       " 'me': False}"
      ]
     },
     "execution_count": 29,
     "metadata": {},
     "output_type": "execute_result"
    }
   ],
   "source": [
    "# 나이브베이즈 분류지\n",
    "\n",
    "clf = nltk.NaiveBayesClassifier.train(t)\n",
    "\n",
    "#테스트 데이터\n",
    "test_sent = 'i like balckpink hate'\n",
    "test_sent_features = {\n",
    "    word.lower() : ( word in word_tokenize(test_sent))\n",
    "    for word in all_words\n",
    "}\n",
    "\n",
    "test_sent_features"
   ]
  },
  {
   "cell_type": "code",
   "execution_count": 30,
   "metadata": {},
   "outputs": [
    {
     "data": {
      "text/plain": [
       "'pos'"
      ]
     },
     "execution_count": 30,
     "metadata": {},
     "output_type": "execute_result"
    }
   ],
   "source": [
    "# 분류기로 예측\n",
    "\n",
    "clf.classify(test_sent_features)"
   ]
  },
  {
   "cell_type": "code",
   "execution_count": null,
   "metadata": {},
   "outputs": [],
   "source": []
  }
 ],
 "metadata": {
  "kernelspec": {
   "display_name": "Python 3 (ipykernel)",
   "language": "python",
   "name": "python3"
  },
  "language_info": {
   "codemirror_mode": {
    "name": "ipython",
    "version": 3
   },
   "file_extension": ".py",
   "mimetype": "text/x-python",
   "name": "python",
   "nbconvert_exporter": "python",
   "pygments_lexer": "ipython3",
   "version": "3.10.9"
  }
 },
 "nbformat": 4,
 "nbformat_minor": 2
}
