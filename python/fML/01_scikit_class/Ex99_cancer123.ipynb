{
 "cells": [
  {
   "cell_type": "code",
   "execution_count": 64,
   "id": "dfb74538",
   "metadata": {},
   "outputs": [],
   "source": [
    "from sklearn.datasets import load_breast_cancer\n",
    "\n",
    "cancer = load_breast_cancer()"
   ]
  },
  {
   "cell_type": "code",
   "execution_count": 89,
   "id": "f73b5daf",
   "metadata": {},
   "outputs": [
    {
     "name": "stdout",
     "output_type": "stream",
     "text": [
      "0\n"
     ]
    },
    {
     "data": {
      "text/plain": [
       "array([2.029e+01, 1.434e+01, 1.351e+02, 1.297e+03, 1.003e-01, 1.328e-01,\n",
       "       1.980e-01, 1.043e-01, 1.809e-01, 5.883e-02, 7.572e-01, 7.813e-01,\n",
       "       5.438e+00, 9.444e+01, 1.149e-02, 2.461e-02, 5.688e-02, 1.885e-02,\n",
       "       1.756e-02, 5.115e-03, 2.254e+01, 1.667e+01, 1.522e+02, 1.575e+03,\n",
       "       1.374e-01, 2.050e-01, 4.000e-01, 1.625e-01, 2.364e-01, 7.678e-02])"
      ]
     },
     "execution_count": 89,
     "metadata": {},
     "output_type": "execute_result"
    }
   ],
   "source": [
    "print(cancer.target[4])\n",
    "cancer.data[4]\n"
   ]
  },
  {
   "cell_type": "code",
   "execution_count": 59,
   "id": "4b56f8ad",
   "metadata": {},
   "outputs": [
    {
     "name": "stdout",
     "output_type": "stream",
     "text": [
      "[2.029e+01 1.434e+01 1.351e+02 1.297e+03 1.003e-01 1.328e-01 1.980e-01\n",
      " 1.043e-01 1.809e-01 5.883e-02 7.572e-01 7.813e-01 5.438e+00 9.444e+01\n",
      " 1.149e-02 2.461e-02 5.688e-02 1.885e-02 1.756e-02 5.115e-03 2.254e+01\n",
      " 1.667e+01 1.522e+02 1.575e+03 1.374e-01 2.050e-01 4.000e-01 1.625e-01\n",
      " 2.364e-01 7.678e-02]\n",
      "0\n"
     ]
    }
   ],
   "source": [
    "print(cancer.data[4])\n",
    "print(cancer.target[4])"
   ]
  },
  {
   "cell_type": "code",
   "execution_count": 106,
   "id": "43beefcc",
   "metadata": {},
   "outputs": [
    {
     "name": "stdout",
     "output_type": "stream",
     "text": [
      "knn훈련점수:  0.9413145539906104\n",
      "knn테스트점수:  0.9020979020979021\n",
      "['malignant']\n",
      "knn정확도: 0.9020979020979021\n",
      "--------------------------------------------------\n",
      "svm훈련점수:  1.0\n",
      "svm테스트점수:  0.6153846153846154\n",
      "['benign']\n",
      "svm정확도: 0.6153846153846154\n"
     ]
    }
   ],
   "source": [
    "import numpy as np\n",
    "from sklearn import datasets\n",
    "from sklearn.model_selection import train_test_split\n",
    "from sklearn.neighbors import KNeighborsClassifier\n",
    "import pandas as pd\n",
    "from sklearn import svm, metrics\n",
    "from sklearn.model_selection import train_test_split\n",
    "\n",
    "X = cancer['data'] #데이터\n",
    "y = cancer['target'] #레이블(답)\n",
    "\n",
    "X_train, X_test, y_train, y_test = train_test_split(X,y,random_state=1)\n",
    "\n",
    "knn = KNeighborsClassifier(n_neighbors=4)\n",
    "knn.fit(X_train,y_train)\n",
    "\n",
    "print('knn훈련점수: ', knn.score(X_train, y_train))\n",
    "print('knn테스트점수: ', knn.score(X_test, y_test))\n",
    "\n",
    "\n",
    "\n",
    "\n",
    "newdata = np.array([[1.199e+01, 2.038e+01, 5.228e+02, 1.551e+03, 1.99e-01, 4.776e-01,\n",
    "3.001e-01, 1.471e-01, 2.419e-01, 2.871e-02, 1.095e+00, 5.053e-01,\n",
    "8.589e+00, 1.534e+02, 5.399e-03, 4.904e-02, 5.373e-02, 1.587e-02,\n",
    "3.003e-02, 7.193e-03, 2.538e+01, 1.733e+01, 1.846e+02, 2.019e+03,\n",
    "1.622e-01, 97.656e-01, 5.119e-01, 1.654e-01, 1.601e-01, 1.189e-01]])\n",
    "result = knn.predict(newdata)\n",
    "\n",
    "print(cancer['target_names'][result])\n",
    "\n",
    "y_predict = knn.predict(X_test)\n",
    "print('knn정확도:', np.mean(y_test == y_predict))\n",
    "\n",
    "print('-'*50)\n",
    "\n",
    "svm = svm.SVC(gamma='auto')\n",
    "svm.fit(X_train, y_train)\n",
    "\n",
    "print('svm훈련점수: ', svm.score(X_train, y_train))\n",
    "print('svm테스트점수: ', svm.score(X_test, y_test))\n",
    "\n",
    "result2 = svm.predict(newdata)\n",
    "print(cancer['target_names'][result2])\n",
    "\n",
    "y_predict2 = svm.predict(X_test)\n",
    "print('svm정확도:', np.mean(y_test == y_predict2))"
   ]
  },
  {
   "cell_type": "code",
   "execution_count": null,
   "id": "463acdea",
   "metadata": {},
   "outputs": [],
   "source": []
  },
  {
   "cell_type": "code",
   "execution_count": null,
   "id": "b97d813f",
   "metadata": {},
   "outputs": [],
   "source": []
  },
  {
   "cell_type": "code",
   "execution_count": null,
   "id": "9990d09c",
   "metadata": {},
   "outputs": [],
   "source": []
  }
 ],
 "metadata": {
  "kernelspec": {
   "display_name": "Python 3 (ipykernel)",
   "language": "python",
   "name": "python3"
  },
  "language_info": {
   "codemirror_mode": {
    "name": "ipython",
    "version": 3
   },
   "file_extension": ".py",
   "mimetype": "text/x-python",
   "name": "python",
   "nbconvert_exporter": "python",
   "pygments_lexer": "ipython3",
   "version": "3.10.9"
  }
 },
 "nbformat": 4,
 "nbformat_minor": 5
}
