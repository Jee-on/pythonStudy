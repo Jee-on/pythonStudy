{
 "cells": [
  {
   "cell_type": "markdown",
   "metadata": {},
   "source": [
    "[ 예제 ] [직장인을 위한 데이터분석 실무 파이썬](https://wikibook.co.kr/pwdrev/)\n",
    "\n",
    "\n",
    "\n",
    "## 3.2.1 유튜브 랭킹 데이터 수집하기"
   ]
  },
  {
   "cell_type": "code",
   "execution_count": 2,
   "metadata": {},
   "outputs": [
    {
     "name": "stdout",
     "output_type": "stream",
     "text": [
      "Requirement already satisfied: selenium in c:\\users\\tjdgh\\anaconda3\\lib\\site-packages (4.9.1)\n",
      "Requirement already satisfied: trio-websocket~=0.9 in c:\\users\\tjdgh\\anaconda3\\lib\\site-packages (from selenium) (0.10.2)\n",
      "Requirement already satisfied: certifi>=2021.10.8 in c:\\users\\tjdgh\\anaconda3\\lib\\site-packages (from selenium) (2022.12.7)\n",
      "Requirement already satisfied: urllib3[socks]<3,>=1.26 in c:\\users\\tjdgh\\anaconda3\\lib\\site-packages (from selenium) (1.26.14)\n",
      "Requirement already satisfied: trio~=0.17 in c:\\users\\tjdgh\\anaconda3\\lib\\site-packages (from selenium) (0.22.0)\n",
      "Requirement already satisfied: async-generator>=1.9 in c:\\users\\tjdgh\\anaconda3\\lib\\site-packages (from trio~=0.17->selenium) (1.10)\n",
      "Requirement already satisfied: sortedcontainers in c:\\users\\tjdgh\\anaconda3\\lib\\site-packages (from trio~=0.17->selenium) (2.4.0)\n",
      "Requirement already satisfied: attrs>=19.2.0 in c:\\users\\tjdgh\\anaconda3\\lib\\site-packages (from trio~=0.17->selenium) (22.1.0)\n",
      "Requirement already satisfied: outcome in c:\\users\\tjdgh\\anaconda3\\lib\\site-packages (from trio~=0.17->selenium) (1.2.0)\n",
      "Requirement already satisfied: idna in c:\\users\\tjdgh\\anaconda3\\lib\\site-packages (from trio~=0.17->selenium) (3.4)\n",
      "Requirement already satisfied: exceptiongroup>=1.0.0rc9 in c:\\users\\tjdgh\\anaconda3\\lib\\site-packages (from trio~=0.17->selenium) (1.1.1)\n",
      "Requirement already satisfied: sniffio in c:\\users\\tjdgh\\anaconda3\\lib\\site-packages (from trio~=0.17->selenium) (1.2.0)\n",
      "Requirement already satisfied: cffi>=1.14 in c:\\users\\tjdgh\\anaconda3\\lib\\site-packages (from trio~=0.17->selenium) (1.15.1)\n",
      "Requirement already satisfied: wsproto>=0.14 in c:\\users\\tjdgh\\anaconda3\\lib\\site-packages (from trio-websocket~=0.9->selenium) (1.2.0)\n",
      "Requirement already satisfied: PySocks!=1.5.7,<2.0,>=1.5.6 in c:\\users\\tjdgh\\anaconda3\\lib\\site-packages (from urllib3[socks]<3,>=1.26->selenium) (1.7.1)\n",
      "Requirement already satisfied: pycparser in c:\\users\\tjdgh\\anaconda3\\lib\\site-packages (from cffi>=1.14->trio~=0.17->selenium) (2.21)\n",
      "Requirement already satisfied: h11<1,>=0.9.0 in c:\\users\\tjdgh\\anaconda3\\lib\\site-packages (from wsproto>=0.14->trio-websocket~=0.9->selenium) (0.14.0)\n",
      "Requirement already satisfied: bs4 in c:\\users\\tjdgh\\anaconda3\\lib\\site-packages (0.0.1)\n",
      "Requirement already satisfied: beautifulsoup4 in c:\\users\\tjdgh\\anaconda3\\lib\\site-packages (from bs4) (4.11.1)\n",
      "Requirement already satisfied: soupsieve>1.2 in c:\\users\\tjdgh\\anaconda3\\lib\\site-packages (from beautifulsoup4->bs4) (2.3.2.post1)\n",
      "Requirement already satisfied: pandas in c:\\users\\tjdgh\\anaconda3\\lib\\site-packages (1.5.3)\n",
      "Requirement already satisfied: python-dateutil>=2.8.1 in c:\\users\\tjdgh\\anaconda3\\lib\\site-packages (from pandas) (2.8.2)\n",
      "Requirement already satisfied: numpy>=1.21.0 in c:\\users\\tjdgh\\anaconda3\\lib\\site-packages (from pandas) (1.23.5)\n",
      "Requirement already satisfied: pytz>=2020.1 in c:\\users\\tjdgh\\anaconda3\\lib\\site-packages (from pandas) (2022.7)\n",
      "Requirement already satisfied: six>=1.5 in c:\\users\\tjdgh\\anaconda3\\lib\\site-packages (from python-dateutil>=2.8.1->pandas) (1.16.0)\n"
     ]
    }
   ],
   "source": [
    "#!pip install selenium\n",
    "#!pip install bs4\n",
    "#!pip install pandas"
   ]
  },
  {
   "cell_type": "code",
   "execution_count": 4,
   "metadata": {},
   "outputs": [],
   "source": [
    "# 예제 3-38 라이브러리 추가하기\n",
    "from selenium import webdriver \n",
    "from bs4 import BeautifulSoup \n",
    "import time\n",
    "import pandas as pd"
   ]
  },
  {
   "cell_type": "code",
   "execution_count": 3,
   "metadata": {},
   "outputs": [
    {
     "name": "stderr",
     "output_type": "stream",
     "text": [
      "C:\\Users\\simmi\\AppData\\Local\\Temp\\ipykernel_7860\\976934821.py:2: DeprecationWarning: executable_path has been deprecated, please pass in a Service object\n",
      "  browser = webdriver.Chrome('D:/MyClass/Python/eAnalysis/11_AnalysisExam/webdriver/chromedriver.exe')\n"
     ]
    }
   ],
   "source": [
    "# 예제 3-39 webdriver로 크롬 브라우저 실행하기\n",
    "browser = webdriver.Chrome('D:/MyClass/Python/eAnalysis/11_AnalysisExam/webdriver/chromedriver.exe')\n",
    "url = \"https://youtube-rank.com/board/bbs/board.php?bo_table=youtube\" \n",
    "browser.get(url)"
   ]
  },
  {
   "cell_type": "code",
   "execution_count": 4,
   "metadata": {},
   "outputs": [],
   "source": [
    "# 예제 3-40 페이지 정보 가져오기\n",
    "html = browser.page_source\n",
    "soup = BeautifulSoup(html, 'html.parser')"
   ]
  },
  {
   "cell_type": "code",
   "execution_count": 5,
   "metadata": {},
   "outputs": [
    {
     "name": "stdout",
     "output_type": "stream",
     "text": [
      "102 \n",
      "\n",
      "<tr>\n",
      "<th class=\"rank\"><a href=\"/board/bbs/board.php?bo_table=youtube&amp;sop=and&amp;sst=rank&amp;sod=desc&amp;sfl=&amp;stx=&amp;sca=&amp;page=1\">순위 <i aria-hidden=\"true\" class=\"fa fa-sort\"></i></a></th>\n",
      "<th class=\"td_img\">이미지</th>\n",
      "<th class=\"subject\">제목</th>\n",
      "<th class=\"subscriber_cnt\"><a href=\"/board/bbs/board.php?bo_table=youtube&amp;sop=and&amp;sst=subscriber_cnt&amp;sod=desc&amp;sfl=&amp;stx=&amp;sca=&amp;page=1\">구독자순 <i aria-hidden=\"true\" class=\"fa fa-sort\"></i></a></th>\n",
      "<th class=\"view_cnt\"><a href=\"/board/bbs/board.php?bo_table=youtube&amp;sop=and&amp;sst=view_cnt&amp;sod=desc&amp;sfl=&amp;stx=&amp;sca=&amp;page=1\">View순 <i aria-hidden=\"true\" class=\"fa fa-sort\"></i></a></th>\n",
      "<th class=\"video_cnt\"><a href=\"/board/bbs/board.php?bo_table=youtube&amp;sop=and&amp;sst=video_cnt&amp;sod=desc&amp;sfl=&amp;stx=&amp;sca=&amp;page=1\">Video순 <i aria-hidden=\"true\" class=\"fa fa-sort\"></i></a></th>\n",
      "<th class=\"hit\"><a href=\"/board/bbs/board.php?bo_table=youtube&amp;sop=and&amp;sst=wr_hit&amp;sod=desc&amp;sfl=&amp;stx=&amp;sca=&amp;page=1\">조회수 <i aria-hidden=\"true\" class=\"fa fa-sort\"></i></a></th>\n",
      "</tr>\n"
     ]
    }
   ],
   "source": [
    "# 예제 3-41 BeautifulSoup으로 tr 태그 추출하기\n",
    "channel_list = soup.select('tr') \n",
    "print(len(channel_list), '\\n')\n",
    "print(channel_list[0])"
   ]
  },
  {
   "cell_type": "code",
   "execution_count": 6,
   "metadata": {},
   "outputs": [
    {
     "name": "stdout",
     "output_type": "stream",
     "text": [
      "100\n"
     ]
    }
   ],
   "source": [
    "# 예제 3-42 tr 태그 확인하기\n",
    "channel_list = soup.select('form > table > tbody > tr')\n",
    "print(len(channel_list))"
   ]
  },
  {
   "cell_type": "code",
   "execution_count": 7,
   "metadata": {},
   "outputs": [
    {
     "name": "stdout",
     "output_type": "stream",
     "text": [
      "<tr class=\"aos-init aos-animate\" data-aos=\"fade-up\" data-aos-duration=\"800\">\n",
      "<td class=\"rank\">\n",
      "                        1                    </td>\n",
      "<td class=\"td_img\">\n",
      "<div class=\"info_img\"><a href=\"https://youtube-rank.com/board/bbs/board.php?bo_table=youtube&amp;wr_id=3203\"><img class=\"lazyload\" data-src=\"https://yt3.ggpht.com/ytc/AKedOLQ36QGusRG7UR-Cz9rBFNGtLf_uLqKP0aJ9EfTMww=s88-c-k-c0x00ffffff-no-rj-mo\" height=\"88\" src=\"https://yt3.ggpht.com/ytc/AKedOLQ36QGusRG7UR-Cz9rBFNGtLf_uLqKP0aJ9EfTMww=s88-c-k-c0x00ffffff-no-rj-mo\" width=\"88\"/></a></div>\n",
      "<p class=\"info_rank\">1</p>\n",
      "</td>\n",
      "<td class=\"subject\">\n",
      "<h1>\n",
      "<p <a=\"\" class=\"category\" href=\"https://youtube-rank.com/board/bbs/board.php?bo_table=youtube&amp;sca=%EC%9D%8C%EC%95%85%2F%EB%8C%84%EC%8A%A4%2F%EA%B0%80%EC%88%98\">[음악/댄스/가수]\n",
      "                                \n",
      "                                </p>\n",
      "<a href=\"https://youtube-rank.com/board/bbs/board.php?bo_table=youtube&amp;wr_id=3203\">\n",
      "\t\t\t\t\t\t\t\t\n",
      "\t\t\t\t\t\t\t\tBLACKPINK\t\t\t\t\t\t\t</a>\n",
      "<span>\n",
      "<i class=\"fa fa-comment\"></i>\n",
      "\t\t\t\t\t\t\t\t1\t\t\t\t\t\t\t</span>\n",
      "<i aria-hidden=\"true\" class=\"fa fa-heart\"></i> </h1>\n",
      "<h2><span><a href=\"https://youtube-rank.com/board/bbs/board.php?bo_table=youtube&amp;wr_id=3203\">\"YG Entertainment\" YG 와이지 K-pop BLACKPINK 블랙핑크 블핑 제니 로제 리사 지수 Lisa Jisoo Jennie ...</a></span></h2>\n",
      "<h3>\n",
      "<i class=\"fa fa-user\"></i>\n",
      "                            7520만<i class=\"fa fa-play\"></i>242억7627만                            <i class=\"fa fa-video-camera\"></i>\n",
      "                            395                            <i class=\"fa fa-eye\"></i>\n",
      "                            21,512                        </h3>\n",
      "</td>\n",
      "<td class=\"subscriber_cnt\">7520만</td>\n",
      "<td class=\"view_cnt\">242억7627만</td>\n",
      "<td class=\"video_cnt\">395개</td>\n",
      "<td class=\"hit\">\n",
      "<strong>21,512</strong>\n",
      "<span>HIT</span>\n",
      "</td>\n",
      "</tr>\n"
     ]
    }
   ],
   "source": [
    "# 예제3-43채널태그출력및태그구조 확인하기\n",
    "channel = channel_list[0]\n",
    "print(channel)"
   ]
  },
  {
   "cell_type": "code",
   "execution_count": 8,
   "metadata": {},
   "outputs": [
    {
     "name": "stdout",
     "output_type": "stream",
     "text": [
      "[음악/댄스/가수]\n"
     ]
    }
   ],
   "source": [
    "# 예제 3-44 카테고리 정보 추출하기\n",
    "category = channel.select('p.category')[0].text.strip()\n",
    "print(category)"
   ]
  },
  {
   "cell_type": "code",
   "execution_count": 9,
   "metadata": {},
   "outputs": [
    {
     "name": "stdout",
     "output_type": "stream",
     "text": [
      "BLACKPINK\n"
     ]
    }
   ],
   "source": [
    "# 예제 3-45 채널명 찾아오기\n",
    "title = channel.select('h1 > a')[0].text.strip()\n",
    "print(title)"
   ]
  },
  {
   "cell_type": "code",
   "execution_count": 10,
   "metadata": {},
   "outputs": [
    {
     "name": "stdout",
     "output_type": "stream",
     "text": [
      "7520만\n",
      "242억7627만\n",
      "395개\n"
     ]
    }
   ],
   "source": [
    "# 예제 3-46 구독자 수, View 수, 동영상 수 추출하기\n",
    "subscriber = channel.select('.subscriber_cnt')[0].text\n",
    "view = channel.select('.view_cnt')[0].text\n",
    "video = channel.select('.video_cnt')[0].text\n",
    "\n",
    "print(subscriber)\n",
    "print(view)\n",
    "print(video)"
   ]
  },
  {
   "cell_type": "code",
   "execution_count": 11,
   "metadata": {},
   "outputs": [
    {
     "name": "stdout",
     "output_type": "stream",
     "text": [
      "BLACKPINK [음악/댄스/가수] 7520만 242억7627만 395개\n",
      "BANGTANTV [음악/댄스/가수] 6920만 171억3337만 1,747개\n",
      "HYBE LABELS [음악/댄스/가수] 6740만 235억2918만 930개\n",
      "SMTOWN [음악/댄스/가수] 3060만 249억2413만 3,935개\n",
      "Boram Tube Vlog [보람튜브 브이로그] [키즈/어린이] 2650만 110억5288만 223개\n",
      "1MILLION Dance Studio [음악/댄스/가수] 2540만 73억5789만 4,137개\n",
      "JYP Entertainment [음악/댄스/가수] 2490만 168억1482만 1,482개\n",
      "1theK (원더케이) [음악/댄스/가수] 2410만 224억5929만 16,760개\n",
      "Charlie Puth [미분류] 2040만 84억3757만 126개\n",
      "Mnet K-POP [음악/댄스/가수] 1980만 152억5794만 28,815개\n",
      "Jimmy Kimmel Live [미분류] 1870만 124억3014만 6,037개\n",
      "KBS WORLD TV [TV/방송] 1810만 138억0417만 57,957개\n",
      "JFlaMusic [음악/댄스/가수] 1760만 36억4225만 282개\n",
      "officialpsy [음악/댄스/가수] 1720만 97억0315만 118개\n",
      "Jane ASMR 제인 [음식/요리/레시피] 1660만 63억5932만 1,515개\n",
      "BIGBANG [음악/댄스/가수] 1480만 73억0660만 776개\n",
      "TWICE [음악/댄스/가수] 1410만 35억9256만 843개\n",
      "Hongyu ASMR 홍유 [음식/요리/레시피] 1350만 41억8478만 499개\n",
      "Kendrick Lamar [미분류] 1110만 47억5077만 18개\n",
      "핑크퐁 (인기 동요・동화) [키즈/어린이] 1080만 65억8376만 2,682개\n",
      "TheWeekndVEVO [미분류] 1060만 148억5741만 132개\n",
      "Nao FunFun [키즈/어린이] 1060만 481만 57개\n",
      "DuDuPopTOY [키즈/어린이] 1050만 48억0203만 2,153개\n",
      "Stone Music Entertainment [음악/댄스/가수] 1040만 88억6953만 8,896개\n",
      "Toymong tv 토이몽TV [키즈/어린이] 1020만 42억3127만 2,079개\n",
      "[햄지]Hamzy [음식/요리/레시피] 994만 31억5167만 439개\n",
      "MBCkpop [TV/방송] 991만 81억4790만 43,232개\n",
      "Stray Kids [음악/댄스/가수] 990만 19억3220만 606개\n",
      "Larva TUBA [키즈/어린이] 977만 43억1177만 2,255개\n",
      "서은이야기[SeoeunStory] [키즈/어린이] 943만 32억6417만 1,100개\n",
      "TOMORROW X TOGETHER OFFICIAL [음악/댄스/가수] 938만 8억3421만 1,120개\n",
      "Mnet TV [음악/댄스/가수] 890만 108억4314만 20,234개\n",
      "EXO [음악/댄스/가수] 886만 6억5193만 275개\n",
      "MBCentertainment [뉴스/정치/사회] 878만 159억5630만 92,127개\n",
      "iKON [음악/댄스/가수] 868만 23억2473만 569개\n",
      "M2 [TV/방송] 845만 68억2054만 16,656개\n",
      "쏘영 Ssoyoung [음식/요리/레시피] 832만 9억9844만 615개\n",
      "Serie A [해외] 828만 29억6604만 23,080개\n",
      "문복희 Eat with Boki [음식/요리/레시피] 799만 20억2582만 584개\n",
      "SEVENTEEN [음악/댄스/가수] 797만 29억4090만 1,181개\n",
      "이지금 [IU Official] [음악/댄스/가수] 776만 15억7979만 147개\n",
      "MariAndKids [키즈/어린이] 762만 23억5527만 810개\n",
      "JTBC Entertainment [뉴스/정치/사회] 739만 109억2433만 71,559개\n",
      "ITZY [음악/댄스/가수] 738만 15억6423만 663개\n",
      "SonicToy소닉토이 [키즈/어린이] 731만 30억8715만 166개\n",
      "KBS Kpop [TV/방송] 706만 58억0790만 34,081개\n",
      "Sungha Jung [음악/댄스/가수] 695만 19억3513만 1,331개\n",
      "Pixar [미분류] 681만 34억4089만 747개\n",
      "야미보이 Yummyboy [음식/요리/레시피] 675만 26억2051만 969개\n",
      "YG ENTERTAINMENT [음악/댄스/가수] 674만 17억1715만 397개\n",
      "스브스케이팝 / SBS KPOP [TV/방송] 672만 49억8070만 30,350개\n",
      "ALL THE K-POP [음악/댄스/가수] 670만 42억7796만 23,395개\n",
      "MAMAMOO [음악/댄스/가수] 670만 20억5926만 710개\n",
      "tzuyang쯔양 [음식/요리/레시피] 655만 12억8822만 395개\n",
      "SBS Entertainment [TV/방송] 645만 79억6559만 222,056개\n",
      "미니특공대TV [키즈/어린이] 639만 36억0122만 1,291개\n",
      "ENHYPEN [미분류] 637만 8억0586만 565개\n",
      "tvN drama [TV/방송] 631만 68억2248만 42,971개\n",
      "GOT7 [음악/댄스/가수] 626만 8억3653만 579개\n",
      "[장난감티비]TOYTV [키즈/어린이] 622만 28억6243만 1,548개\n",
      "SBS Drama [TV/방송] 620만 66억3945만 343,163개\n",
      "TREASURE (트레저) [음악/댄스/가수] 615만 14억6823만 475개\n",
      "Samsung [회사/오피셜] 615만 16억1253만 1,786개\n",
      "PONY Syndrome [패션/미용] 595만 3억5672만 217개\n",
      "스위트티비 SweetTV [키즈/어린이] 561만 27억8950만 500개\n",
      "2NE1 [음악/댄스/가수] 552만 21억0543만 321개\n",
      "starshipTV [음악/댄스/가수] 541만 33억1777만 2,057개\n",
      "백종원의 요리비책 Paik's Cuisine [음식/요리/레시피] 541만 6억8524만 444개\n",
      "With Kids Playground [위드키즈 놀이터] [키즈/어린이] 533만 20억1433만 432개\n",
      "NCT [음악/댄스/가수] 528만 5억0283만 406개\n",
      "TOY GUMA [키즈/어린이] 524만 17억1573만 335개\n",
      "콩순이 · 시크릿쥬쥬 [Kongsuni · Secret Jouju] [키즈/어린이] 524만 48억0608만 1,344개\n",
      "[Awesome Haeun]어썸하은 [BJ/인물/연예인] 522만 8억5004만 521개\n",
      "베이비버스 -인기 동요・동화 [키즈/어린이] 517만 35억8053만 1,439개\n",
      "Red Velvet [음악/댄스/가수] 508만 9억8815만 196개\n",
      "NCT DREAM [음악/댄스/가수] 507만 7억5651만 403개\n",
      "영국남자 Korean Englishman [BJ/인물/연예인] 506만 16억8317만 471개\n",
      "푸메Fume [음식/요리/레시피] 502만 10억6934만 572개\n",
      "SBS NOW / SBS 공식 채널 [뉴스/정치/사회] 501만 52억0350만 21,762개\n",
      "BT21 [음악/댄스/가수] 494만 4억3226만 247개\n",
      "ToyMart TV [키즈/어린이] 488만 21억5000만 652개\n",
      "KBS Entertain [TV/방송] 484만 81억8774만 108,372개\n",
      "MayTree [미분류] 476만 9억2344만 167개\n",
      "MBCdrama [TV/방송] 475만 54억2971만 57,079개\n",
      "Rosesarerosie [음악/댄스/가수] 473만 4403만 9개\n",
      "ASTRO 아스트로 [음악/댄스/가수] 473만 5억1213만 565개\n",
      "떵개떵 [음식/요리/레시피] 473만 27억7185만 4,641개\n",
      "NCT 127 [음악/댄스/가수] 466만 6억2864만 329개\n",
      "미니팡TV [키즈/어린이] 463만 31억1330만 790개\n",
      "뽀로로(Pororo) [키즈/어린이] 459만 64억0857만 3,891개\n",
      "JTBC Drama [TV/방송] 458만 47억8482만 25,713개\n",
      "SBS TV동물농장x애니멀봐 [애완/반려동물] 458만 42억3514만 3,583개\n",
      "Cooking tree 쿠킹트리 [음식/요리/레시피] 453만 4억4182만 1,286개\n",
      "까니짱 [ G-NI ] [음식/요리/레시피] 449만 12억5609만 640개\n",
      "채널 NCT DAILY [TV/방송] 443만 8억1392만 467개\n",
      "5 분 Tricks [음식/요리/레시피] 441만 16억4487만 3,769개\n",
      "하루한끼 one meal a day [음식/요리/레시피] 439만 4억4855만 196개\n",
      "CoCosToy 꼬꼬스토이 [키즈/어린이] 437만 25억8322만 608개\n",
      "슈슈토이 Shushu ToysReview [키즈/어린이] 434만 16억5946만 718개\n",
      "EA SPORTS FIFA [게임] 430만 8억0997만 794개\n"
     ]
    }
   ],
   "source": [
    "# 예제 3-47 반복문으로 채널 정보 추출하기\n",
    "channel_list = soup.select('tbody > tr') \n",
    "for channel in channel_list:\n",
    "    \n",
    "    if not channel.select('h1 > a'): continue\n",
    "    \n",
    "    title = channel.select('h1 > a')[0].text.strip()\n",
    "    category = channel.select('p.category')[0].text.strip()\n",
    "    subscriber = channel.select('.subscriber_cnt')[0].text\n",
    "    view = channel.select('.view_cnt')[0].text\n",
    "    video = channel.select('.video_cnt')[0].text \n",
    "    print(title, category, subscriber, view, video)"
   ]
  },
  {
   "cell_type": "code",
   "execution_count": 12,
   "metadata": {},
   "outputs": [
    {
     "name": "stdout",
     "output_type": "stream",
     "text": [
      "https://youtube-rank.com/board/bbs/board.php?bo_table=youtube&page=1\n"
     ]
    }
   ],
   "source": [
    "# 예제 3-48 페이지별 URL 만들기\n",
    "page = 1\n",
    "url = 'https://youtube-rank.com/board/bbs/board.php?bo_table=youtube&page={}'.format(page)\n",
    "print(url)"
   ]
  },
  {
   "cell_type": "code",
   "execution_count": 14,
   "metadata": {},
   "outputs": [
    {
     "name": "stderr",
     "output_type": "stream",
     "text": [
      "C:\\Users\\simmi\\AppData\\Local\\Temp\\ipykernel_7860\\1160897764.py:2: DeprecationWarning: executable_path has been deprecated, please pass in a Service object\n",
      "  browser = webdriver.Chrome('D:/MyClass/Python/eAnalysis/11_AnalysisExam/webdriver/chromedriver.exe')\n"
     ]
    },
    {
     "ename": "WebDriverException",
     "evalue": "Message: unknown error: unexpected command response\n  (Session info: chrome=103.0.5060.114)\nStacktrace:\nBacktrace:\n\tOrdinal0 [0x008DD953+2414931]\n\tOrdinal0 [0x0086F5E1+1963489]\n\tOrdinal0 [0x0075C6B8+837304]\n\tOrdinal0 [0x0074EB34+781108]\n\tOrdinal0 [0x0074E06A+778346]\n\tOrdinal0 [0x0074D646+775750]\n\tOrdinal0 [0x0074D5E9+775657]\n\tOrdinal0 [0x0074C565+771429]\n\tOrdinal0 [0x0074CB68+772968]\n\tOrdinal0 [0x0074CAF8+772856]\n\tOrdinal0 [0x00752D5A+798042]\n\tOrdinal0 [0x0074DD3B+777531]\n\tOrdinal0 [0x0074E265+778853]\n\tOrdinal0 [0x0074E04F+778319]\n\tOrdinal0 [0x0074D646+775750]\n\tOrdinal0 [0x0074CEBC+773820]\n\tOrdinal0 [0x0074CD59+773465]\n\tOrdinal0 [0x0075DA70+842352]\n\tOrdinal0 [0x007B40DB+1196251]\n\tOrdinal0 [0x007A42B6+1131190]\n\tOrdinal0 [0x0077E860+976992]\n\tOrdinal0 [0x0077F756+980822]\n\tGetHandleVerifier [0x00B4CC62+2510274]\n\tGetHandleVerifier [0x00B3F760+2455744]\n\tGetHandleVerifier [0x0096EABA+551962]\n\tGetHandleVerifier [0x0096D916+547446]\n\tOrdinal0 [0x00875F3B+1990459]\n\tOrdinal0 [0x0087A898+2009240]\n\tOrdinal0 [0x0087A985+2009477]\n\tOrdinal0 [0x00883AD1+2046673]\n\tBaseThreadInitThunk [0x7529FA29+25]\n\tRtlGetAppContainerNamedObjectPath [0x773C7A9E+286]\n\tRtlGetAppContainerNamedObjectPath [0x773C7A6E+238]\n",
     "output_type": "error",
     "traceback": [
      "\u001b[1;31m---------------------------------------------------------------------------\u001b[0m",
      "\u001b[1;31mWebDriverException\u001b[0m                        Traceback (most recent call last)",
      "Input \u001b[1;32mIn [14]\u001b[0m, in \u001b[0;36m<cell line: 5>\u001b[1;34m()\u001b[0m\n\u001b[0;32m      7\u001b[0m browser\u001b[38;5;241m.\u001b[39mget(url)\n\u001b[0;32m      8\u001b[0m time\u001b[38;5;241m.\u001b[39msleep(\u001b[38;5;241m5\u001b[39m)\n\u001b[1;32m----> 9\u001b[0m html \u001b[38;5;241m=\u001b[39m \u001b[43mbrowser\u001b[49m\u001b[38;5;241;43m.\u001b[39;49m\u001b[43mpage_source\u001b[49m\n\u001b[0;32m     10\u001b[0m soup \u001b[38;5;241m=\u001b[39m BeautifulSoup(html, \u001b[38;5;124m'\u001b[39m\u001b[38;5;124mhtml.parser\u001b[39m\u001b[38;5;124m'\u001b[39m)\n\u001b[0;32m     11\u001b[0m channel_list \u001b[38;5;241m=\u001b[39m soup\u001b[38;5;241m.\u001b[39mselect(\u001b[38;5;124m'\u001b[39m\u001b[38;5;124mform > table > tbody > tr\u001b[39m\u001b[38;5;124m'\u001b[39m)\n",
      "File \u001b[1;32m~\\Anaconda3\\lib\\site-packages\\selenium\\webdriver\\remote\\webdriver.py:541\u001b[0m, in \u001b[0;36mWebDriver.page_source\u001b[1;34m(self)\u001b[0m\n\u001b[0;32m    531\u001b[0m \u001b[38;5;129m@property\u001b[39m\n\u001b[0;32m    532\u001b[0m \u001b[38;5;28;01mdef\u001b[39;00m \u001b[38;5;21mpage_source\u001b[39m(\u001b[38;5;28mself\u001b[39m) \u001b[38;5;241m-\u001b[39m\u001b[38;5;241m>\u001b[39m \u001b[38;5;28mstr\u001b[39m:\n\u001b[0;32m    533\u001b[0m     \u001b[38;5;124;03m\"\"\"\u001b[39;00m\n\u001b[0;32m    534\u001b[0m \u001b[38;5;124;03m    Gets the source of the current page.\u001b[39;00m\n\u001b[0;32m    535\u001b[0m \n\u001b[1;32m   (...)\u001b[0m\n\u001b[0;32m    539\u001b[0m \u001b[38;5;124;03m            driver.page_source\u001b[39;00m\n\u001b[0;32m    540\u001b[0m \u001b[38;5;124;03m    \"\"\"\u001b[39;00m\n\u001b[1;32m--> 541\u001b[0m     \u001b[38;5;28;01mreturn\u001b[39;00m \u001b[38;5;28;43mself\u001b[39;49m\u001b[38;5;241;43m.\u001b[39;49m\u001b[43mexecute\u001b[49m\u001b[43m(\u001b[49m\u001b[43mCommand\u001b[49m\u001b[38;5;241;43m.\u001b[39;49m\u001b[43mGET_PAGE_SOURCE\u001b[49m\u001b[43m)\u001b[49m[\u001b[38;5;124m'\u001b[39m\u001b[38;5;124mvalue\u001b[39m\u001b[38;5;124m'\u001b[39m]\n",
      "File \u001b[1;32m~\\Anaconda3\\lib\\site-packages\\selenium\\webdriver\\remote\\webdriver.py:435\u001b[0m, in \u001b[0;36mWebDriver.execute\u001b[1;34m(self, driver_command, params)\u001b[0m\n\u001b[0;32m    433\u001b[0m response \u001b[38;5;241m=\u001b[39m \u001b[38;5;28mself\u001b[39m\u001b[38;5;241m.\u001b[39mcommand_executor\u001b[38;5;241m.\u001b[39mexecute(driver_command, params)\n\u001b[0;32m    434\u001b[0m \u001b[38;5;28;01mif\u001b[39;00m response:\n\u001b[1;32m--> 435\u001b[0m     \u001b[38;5;28;43mself\u001b[39;49m\u001b[38;5;241;43m.\u001b[39;49m\u001b[43merror_handler\u001b[49m\u001b[38;5;241;43m.\u001b[39;49m\u001b[43mcheck_response\u001b[49m\u001b[43m(\u001b[49m\u001b[43mresponse\u001b[49m\u001b[43m)\u001b[49m\n\u001b[0;32m    436\u001b[0m     response[\u001b[38;5;124m'\u001b[39m\u001b[38;5;124mvalue\u001b[39m\u001b[38;5;124m'\u001b[39m] \u001b[38;5;241m=\u001b[39m \u001b[38;5;28mself\u001b[39m\u001b[38;5;241m.\u001b[39m_unwrap_value(\n\u001b[0;32m    437\u001b[0m         response\u001b[38;5;241m.\u001b[39mget(\u001b[38;5;124m'\u001b[39m\u001b[38;5;124mvalue\u001b[39m\u001b[38;5;124m'\u001b[39m, \u001b[38;5;28;01mNone\u001b[39;00m))\n\u001b[0;32m    438\u001b[0m     \u001b[38;5;28;01mreturn\u001b[39;00m response\n",
      "File \u001b[1;32m~\\Anaconda3\\lib\\site-packages\\selenium\\webdriver\\remote\\errorhandler.py:247\u001b[0m, in \u001b[0;36mErrorHandler.check_response\u001b[1;34m(self, response)\u001b[0m\n\u001b[0;32m    245\u001b[0m         alert_text \u001b[38;5;241m=\u001b[39m value[\u001b[38;5;124m'\u001b[39m\u001b[38;5;124malert\u001b[39m\u001b[38;5;124m'\u001b[39m]\u001b[38;5;241m.\u001b[39mget(\u001b[38;5;124m'\u001b[39m\u001b[38;5;124mtext\u001b[39m\u001b[38;5;124m'\u001b[39m)\n\u001b[0;32m    246\u001b[0m     \u001b[38;5;28;01mraise\u001b[39;00m exception_class(message, screen, stacktrace, alert_text)  \u001b[38;5;66;03m# type: ignore[call-arg]  # mypy is not smart enough here\u001b[39;00m\n\u001b[1;32m--> 247\u001b[0m \u001b[38;5;28;01mraise\u001b[39;00m exception_class(message, screen, stacktrace)\n",
      "\u001b[1;31mWebDriverException\u001b[0m: Message: unknown error: unexpected command response\n  (Session info: chrome=103.0.5060.114)\nStacktrace:\nBacktrace:\n\tOrdinal0 [0x008DD953+2414931]\n\tOrdinal0 [0x0086F5E1+1963489]\n\tOrdinal0 [0x0075C6B8+837304]\n\tOrdinal0 [0x0074EB34+781108]\n\tOrdinal0 [0x0074E06A+778346]\n\tOrdinal0 [0x0074D646+775750]\n\tOrdinal0 [0x0074D5E9+775657]\n\tOrdinal0 [0x0074C565+771429]\n\tOrdinal0 [0x0074CB68+772968]\n\tOrdinal0 [0x0074CAF8+772856]\n\tOrdinal0 [0x00752D5A+798042]\n\tOrdinal0 [0x0074DD3B+777531]\n\tOrdinal0 [0x0074E265+778853]\n\tOrdinal0 [0x0074E04F+778319]\n\tOrdinal0 [0x0074D646+775750]\n\tOrdinal0 [0x0074CEBC+773820]\n\tOrdinal0 [0x0074CD59+773465]\n\tOrdinal0 [0x0075DA70+842352]\n\tOrdinal0 [0x007B40DB+1196251]\n\tOrdinal0 [0x007A42B6+1131190]\n\tOrdinal0 [0x0077E860+976992]\n\tOrdinal0 [0x0077F756+980822]\n\tGetHandleVerifier [0x00B4CC62+2510274]\n\tGetHandleVerifier [0x00B3F760+2455744]\n\tGetHandleVerifier [0x0096EABA+551962]\n\tGetHandleVerifier [0x0096D916+547446]\n\tOrdinal0 [0x00875F3B+1990459]\n\tOrdinal0 [0x0087A898+2009240]\n\tOrdinal0 [0x0087A985+2009477]\n\tOrdinal0 [0x00883AD1+2046673]\n\tBaseThreadInitThunk [0x7529FA29+25]\n\tRtlGetAppContainerNamedObjectPath [0x773C7A9E+286]\n\tRtlGetAppContainerNamedObjectPath [0x773C7A6E+238]\n"
     ]
    }
   ],
   "source": [
    "# 예제 3-49 반복문으로 유튜브 랭킹 화면의 여러 페이지를 크롤링하기\n",
    "results = []\n",
    "for page in range(1,11):\n",
    "    url = f\"https://youtube-rank.com/board/bbs/board.php?bo_table=youtube&page={page}\" \n",
    "    browser.get(url)\n",
    "    time.sleep(5)\n",
    "    html = browser.page_source\n",
    "    soup = BeautifulSoup(html, 'html.parser')\n",
    "    channel_list = soup.select('form > table > tbody > tr')\n",
    "    for channel in channel_list:\n",
    "        title = channel.select('h1 > a')[0].text.strip() \n",
    "        category = channel.select('p.category')[0].text.strip()\n",
    "        subscriber = channel.select('.subscriber_cnt')[0].text \n",
    "        view = channel.select('.view_cnt')[0].text\n",
    "        video = channel.select('.video_cnt')[0].text\n",
    "        data = [title, category, subscriber, view, video]\n",
    "        results.append(data)"
   ]
  },
  {
   "cell_type": "code",
   "execution_count": null,
   "metadata": {},
   "outputs": [],
   "source": [
    "# 예제 3-50 데이터 칼럼명을 설정하고 엑셀 파일로 저장하기\n",
    "df = pd.DataFrame(results)\n",
    "df.columns = ['title', 'category', 'subscriber', 'view', 'video']\n",
    "df.to_excel('./files/youtube_rank.xlsx', index = False)"
   ]
  },
  {
   "cell_type": "markdown",
   "metadata": {},
   "source": [
    "## 3.2.2 유튜브 랭킹 데이터 시각화하기"
   ]
  },
  {
   "cell_type": "code",
   "execution_count": null,
   "metadata": {},
   "outputs": [],
   "source": [
    "# 예제 3-51 라이브러리 추가하기\n",
    "import pandas as pd\n",
    "import matplotlib.pyplot as plt"
   ]
  },
  {
   "cell_type": "code",
   "execution_count": null,
   "metadata": {},
   "outputs": [],
   "source": [
    "# 예제 3-52 그래프에서 한글을 표기하기 위한 글꼴 변경(윈도우, macOS에 대해 각각 처리)\n",
    "from matplotlib import font_manager, rc\n",
    "import platform\n",
    "if platform.system() == 'Windows':\n",
    "    path = 'c:/Windows/Fonts/malgun.ttf'\n",
    "    font_name = font_manager.FontProperties(fname = path).get_name()\n",
    "    rc('font', family = font_name)\n",
    "elif platform.system() == 'Darwin':\n",
    "    rc('font', family = 'AppleGothic')\n",
    "else:\n",
    "    print('Check your OS system')"
   ]
  },
  {
   "cell_type": "code",
   "execution_count": null,
   "metadata": {},
   "outputs": [],
   "source": [
    "# 예제 3-53 엑셀 파일 불러오기\n",
    "df = pd.read_excel('./files/youtube_rank.xlsx')\n",
    "df.head()"
   ]
  },
  {
   "cell_type": "code",
   "execution_count": null,
   "metadata": {},
   "outputs": [],
   "source": [
    "# 예제 3-54 데이터 살펴보기\n",
    "df.tail()"
   ]
  },
  {
   "cell_type": "code",
   "execution_count": null,
   "metadata": {},
   "outputs": [],
   "source": [
    "# 예제 3-55 데이터 살펴보기\n",
    "df['subscriber'][0:10]"
   ]
  },
  {
   "cell_type": "code",
   "execution_count": null,
   "metadata": {},
   "outputs": [],
   "source": [
    "# 예제 3-56 데이터 살펴보기\n",
    "df['subscriber'].str.replace('만', '0000')[0:10]"
   ]
  },
  {
   "cell_type": "code",
   "execution_count": null,
   "metadata": {},
   "outputs": [],
   "source": [
    "# 예제 3-57 replaced_subscriber 시리즈 문자열 변경하기\n",
    "df['replaced_subscriber'] = df['subscriber'].str.replace('만', '0000')\n",
    "df.head()"
   ]
  },
  {
   "cell_type": "code",
   "execution_count": null,
   "metadata": {},
   "outputs": [],
   "source": [
    "# 예제 3-58 데이터 상세 정보\n",
    "df.info()"
   ]
  },
  {
   "cell_type": "code",
   "execution_count": null,
   "metadata": {},
   "outputs": [],
   "source": [
    "# 예제 3-59 Series 데이터 타입 변환하기\n",
    "df['replaced_subscriber'] = df['replaced_subscriber'].astype('int')\n",
    "df.info()"
   ]
  },
  {
   "cell_type": "code",
   "execution_count": null,
   "metadata": {},
   "outputs": [],
   "source": [
    "# 예제 3-60 카테고리별 구독자 수, 채널 수 피봇 테이블 생성하기\n",
    "pivot_df = df.pivot_table(index = 'category', values = 'replaced_subscriber', aggfunc = ['sum','count'])\n",
    "pivot_df.head()"
   ]
  },
  {
   "cell_type": "code",
   "execution_count": null,
   "metadata": {},
   "outputs": [],
   "source": [
    "# 예제 3-61 데이터프레임의 칼럼명 변경하기\n",
    "pivot_df.columns = ['subscriber_sum', 'category_count']\n",
    "pivot_df.head()"
   ]
  },
  {
   "cell_type": "code",
   "execution_count": null,
   "metadata": {},
   "outputs": [],
   "source": [
    "# 예제3-62 데이터프레임의인덱스초기화하기\n",
    "pivot_df = pivot_df.reset_index()\n",
    "pivot_df.head()"
   ]
  },
  {
   "cell_type": "code",
   "execution_count": null,
   "metadata": {},
   "outputs": [],
   "source": [
    "# 예제3-63 데이터프레임을내림차순정렬하기\n",
    "pivot_df = pivot_df.sort_values(by='subscriber_sum', ascending=False)\n",
    "pivot_df.head()"
   ]
  },
  {
   "cell_type": "code",
   "execution_count": null,
   "metadata": {},
   "outputs": [],
   "source": [
    "# 예제3-64 카테고리별구독자수시각화하기\n",
    "plt.figure(figsize = (30,10))\n",
    "plt.pie(pivot_df['subscriber_sum'], labels=pivot_df['category'], autopct='%1.1f%%')\n",
    "plt.show()"
   ]
  },
  {
   "cell_type": "code",
   "execution_count": null,
   "metadata": {},
   "outputs": [],
   "source": [
    "# 예제 3-65 카테고리별 채널 수 시각화하기\n",
    "pivot_df = pivot_df.sort_values(by='category_count', ascending=False)\n",
    "pivot_df.head()\n",
    "plt.figure(figsize = (30,10))\n",
    "plt.pie(pivot_df['category_count'], labels=pivot_df['category'], autopct='%1.1f%%')\n",
    "plt.show()"
   ]
  }
 ],
 "metadata": {
  "kernelspec": {
   "display_name": "Python 3 (ipykernel)",
   "language": "python",
   "name": "python3"
  },
  "language_info": {
   "codemirror_mode": {
    "name": "ipython",
    "version": 3
   },
   "file_extension": ".py",
   "mimetype": "text/x-python",
   "name": "python",
   "nbconvert_exporter": "python",
   "pygments_lexer": "ipython3",
   "version": "3.10.9"
  }
 },
 "nbformat": 4,
 "nbformat_minor": 4
}
