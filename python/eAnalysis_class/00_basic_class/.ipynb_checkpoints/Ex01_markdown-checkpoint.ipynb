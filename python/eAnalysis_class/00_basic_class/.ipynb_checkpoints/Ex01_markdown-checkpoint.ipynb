{
 "cells": [
  {
   "cell_type": "markdown",
   "id": "5f777699",
   "metadata": {},
   "source": [
    "### 쉘모드 변경\n",
    "\n",
    "+Code 셀 변경 : esc > y\n",
    "\n",
    "+ Markdown 셀 변경 : esc > m\n",
    "    -마크다운쉘은 문서 만들기"
   ]
  },
  {
   "cell_type": "markdown",
   "id": "b8d70e02",
   "metadata": {},
   "source": [
    "# 서울 하철 평균이용객 수 분석\n",
    "\n",
    "## 이용자가 많은 지하철역은?\n",
    "\n",
    "+ 강남\n",
    "+ 홍대\n",
    "\n",
    "     - 성수\n",
    "     - 합정\n",
    "    "
   ]
  },
  {
   "cell_type": "markdown",
   "id": "07a1342b",
   "metadata": {},
   "source": [
    "* 별표 하나는 번호없는 목록\n",
    "\n",
    "*별표로 감싸면 기울기이( 주의-별표와 띄어쓰기 없어야함)*\n",
    "\n",
    "**별표 2개로 감싸면 굵기**\n",
    "\n",
    "***별표세개는? 기울기+굵기***\n",
    "\n",
    "가로선 --- 이면\n",
    "\n",
    "---\n",
    "\n",
    "인용문으로 >\n",
    "\n",
    "> 인용문"
   ]
  },
  {
   "cell_type": "markdown",
   "id": "40cdce17",
   "metadata": {},
   "source": [
    "<div align='center'> 헬로우 월드 html 태그 먹힘<div>\n",
    "<img src='dataset/puppy.jpg'>\n",
    "    \n",
    "[링크걸기](http://www.naver.com)\n",
    "\n",
    "[![텍스트](https://www.google.com/images/branding/googlelogo/1x/googlelogo_color_272x92dp.png)](http://www.naver.com)"
   ]
  },
  {
   "cell_type": "code",
   "execution_count": null,
   "id": "e02fd7ad",
   "metadata": {},
   "outputs": [],
   "source": []
  },
  {
   "cell_type": "code",
   "execution_count": null,
   "id": "a69afead",
   "metadata": {},
   "outputs": [],
   "source": []
  },
  {
   "cell_type": "code",
   "execution_count": 1,
   "id": "d33c9396",
   "metadata": {},
   "outputs": [
    {
     "ename": "SyntaxError",
     "evalue": "invalid syntax (721872762.py, line 1)",
     "output_type": "error",
     "traceback": [
      "\u001b[1;36m  Cell \u001b[1;32mIn[1], line 1\u001b[1;36m\u001b[0m\n\u001b[1;33m    도움말 쉬프트+탭\u001b[0m\n\u001b[1;37m        ^\u001b[0m\n\u001b[1;31mSyntaxError\u001b[0m\u001b[1;31m:\u001b[0m invalid syntax\n"
     ]
    }
   ],
   "source": [
    "##도움말 쉬프트+탭"
   ]
  },
  {
   "cell_type": "code",
   "execution_count": null,
   "id": "f28fde8e",
   "metadata": {
    "scrolled": true
   },
   "outputs": [],
   "source": [
    "import pandas\n",
    "\n",
    "p1 = pandas.read_csv('dataset/subway_data1.csv', encoding='utf-8')"
   ]
  },
  {
   "cell_type": "code",
   "execution_count": null,
   "id": "e25f76c0",
   "metadata": {},
   "outputs": [],
   "source": [
    "p1 "
   ]
  },
  {
   "cell_type": "code",
   "execution_count": null,
   "id": "48b80a76",
   "metadata": {},
   "outputs": [],
   "source": []
  },
  {
   "cell_type": "code",
   "execution_count": null,
   "id": "76a6f5e3",
   "metadata": {},
   "outputs": [],
   "source": []
  }
 ],
 "metadata": {
  "kernelspec": {
   "display_name": "Python 3 (ipykernel)",
   "language": "python",
   "name": "python3"
  },
  "language_info": {
   "codemirror_mode": {
    "name": "ipython",
    "version": 3
   },
   "file_extension": ".py",
   "mimetype": "text/x-python",
   "name": "python",
   "nbconvert_exporter": "python",
   "pygments_lexer": "ipython3",
   "version": "3.10.9"
  }
 },
 "nbformat": 4,
 "nbformat_minor": 5
}
