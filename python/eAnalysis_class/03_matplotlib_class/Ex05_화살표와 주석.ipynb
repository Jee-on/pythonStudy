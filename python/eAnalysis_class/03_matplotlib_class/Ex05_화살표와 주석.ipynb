{
 "cells": [
  {
   "cell_type": "markdown",
   "metadata": {},
   "source": [
    "#### 차트상에서 주석 처리하는 함수 : annotate(s, xy, xytext,  arrowprops, . . . )\n",
    "    + s: 주석\n",
    "    + xy : 화살표시작위치\n",
    "    + xytext : 주석 텍스트의 시작 위치\n",
    "    + arrowprops : 화살표의 속성들\n",
    "    \n",
    "\n",
    "[참고] Matplotlib에서 화살표를 그리는 것은 plt.arrow()가 있지만 사용하기 어렵다.\n",
    "    게다가 플롯의 사로 세로 비율이 바뀔 때마다 원하는 결과 얻기 어렵다.\n",
    "    plt.annotate() 함수 이용을 권장한다\n"
   ]
  },
  {
   "cell_type": "code",
   "execution_count": 5,
   "metadata": {},
   "outputs": [
    {
     "ename": "NameError",
     "evalue": "name 'ax' is not defined",
     "output_type": "error",
     "traceback": [
      "\u001b[1;31m---------------------------------------------------------------------------\u001b[0m",
      "\u001b[1;31mNameError\u001b[0m                                 Traceback (most recent call last)",
      "Cell \u001b[1;32mIn[5], line 8\u001b[0m\n\u001b[0;32m      4\u001b[0m \u001b[38;5;28;01mimport\u001b[39;00m \u001b[38;5;21;01mmatplotlib\u001b[39;00m\u001b[38;5;21;01m.\u001b[39;00m\u001b[38;5;21;01mpyplot\u001b[39;00m \u001b[38;5;28;01mas\u001b[39;00m \u001b[38;5;21;01mplt\u001b[39;00m \n\u001b[0;32m      6\u001b[0m x \u001b[38;5;241m=\u001b[39m np\u001b[38;5;241m.\u001b[39mlinspace(\u001b[38;5;241m0\u001b[39m,\u001b[38;5;241m50\u001b[39m,\u001b[38;5;241m100\u001b[39m)\n\u001b[1;32m----> 8\u001b[0m \u001b[43max\u001b[49m\u001b[38;5;241m.\u001b[39mplot(np\u001b[38;5;241m.\u001b[39mcos(x))\n\u001b[0;32m      9\u001b[0m ax\u001b[38;5;241m.\u001b[39mannotate(\u001b[38;5;124m'\u001b[39m\u001b[38;5;124mMy comment\u001b[39m\u001b[38;5;124m'\u001b[39m, xy\u001b[38;5;241m=\u001b[39m(\u001b[38;5;241m1.1\u001b[39m,\u001b[38;5;241m1\u001b[39m), xytext\u001b[38;5;241m=\u001b[39m(\u001b[38;5;241m3\u001b[39m,\u001b[38;5;241m2\u001b[39m), arrowprops\u001b[38;5;241m=\u001b[39m\u001b[38;5;28mdict\u001b[39m(facecolor\u001b[38;5;241m=\u001b[39m\u001b[38;5;124m'\u001b[39m\u001b[38;5;124mred\u001b[39m\u001b[38;5;124m'\u001b[39m, shrink\u001b[38;5;241m=\u001b[39m\u001b[38;5;241m0.05\u001b[39m))\n",
      "\u001b[1;31mNameError\u001b[0m: name 'ax' is not defined"
     ]
    }
   ],
   "source": [
    "%matplotlib inline\n",
    "\n",
    "import numpy as np\n",
    "import matplotlib.pyplot as plt \n",
    "\n",
    "x = np.linspace(0,50,100)\n",
    "\n",
    "ax.plot(np.cos(x))\n",
    "ax.annotate('My comment', xy=(1.1,1), xytext=(3,2), arrowprops=dict(facecolor='red', shrink=0.05))\n",
    "\n",
    "\n",
    "\n"
   ]
  }
 ],
 "metadata": {
  "kernelspec": {
   "display_name": "Python 3 (ipykernel)",
   "language": "python",
   "name": "python3"
  },
  "language_info": {
   "codemirror_mode": {
    "name": "ipython",
    "version": 3
   },
   "file_extension": ".py",
   "mimetype": "text/x-python",
   "name": "python",
   "nbconvert_exporter": "python",
   "pygments_lexer": "ipython3",
   "version": "3.10.9"
  }
 },
 "nbformat": 4,
 "nbformat_minor": 2
}
