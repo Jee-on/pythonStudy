{
 "cells": [
  {
   "cell_type": "markdown",
   "metadata": {},
   "source": [
    "# 1  데이터 수집 1 – 한 페이지 크롤링\n",
    "\n",
    "다나와 사이트에서 제품별로 용량, 크기 같은 조건을 설정해서 검색하여\n",
    "\n",
    "무선청소기 제품의 가격과 정보를 수집한다.\n",
    "\n",
    "[도서]  [데이터실무분석 with파이썬 예제](https://wikibook.co.kr/playwithdata/)"
   ]
  },
  {
   "cell_type": "code",
   "execution_count": null,
   "metadata": {},
   "outputs": [],
   "source": []
  },
  {
   "cell_type": "code",
   "execution_count": 1,
   "metadata": {},
   "outputs": [],
   "source": [
    "### 6.1.1 패키지 설치\n",
    "# 1) selenimu 패키지 설치\n",
    "#!pip install selenium\n",
    "\n",
    "# 2) webdriver 다운로드  http://chromedriver.chromium.org/downloads\n",
    "#        chromedirver_win32.zip 파일 다운로드 받고 압축풀기\n",
    "# 크롬버전을 맞춰서  다운받아야 한다"
   ]
  },
  {
   "cell_type": "markdown",
   "metadata": {},
   "source": [
    "### 6.1.2 다나와 검색 페이지 접속"
   ]
  },
  {
   "cell_type": "code",
   "execution_count": 2,
   "metadata": {
    "scrolled": true
   },
   "outputs": [],
   "source": [
    "# 예제 6-1 selenium으로 다나와 검색 결과 URL에 접속\n",
    "from selenium import webdriver\n",
    "\n",
    "# webdriver 설치 경로 확인\n",
    "driver = webdriver.Chrome('D:/MyClass/Python/cWebConn/4_selenium/webdriver/chromedriver.exe') \n",
    "\n",
    "# 다나와 사이트에서 실제 '무선청소기' 검색 후 url 확인\n",
    "url = \"http://search.danawa.com/dsearch.php?query=무선청소기&tab=main\" \n",
    "driver.get(url)"
   ]
  },
  {
   "cell_type": "markdown",
   "metadata": {},
   "source": [
    "### 6.1.3 다나와 검색 웹 페이지에서 상품 정보 가져오기\n",
    "\n",
    "크롬에서 F12(개발자모드)를 보면서 확인합시다"
   ]
  },
  {
   "cell_type": "code",
   "execution_count": 3,
   "metadata": {},
   "outputs": [],
   "source": [
    "from bs4 import BeautifulSoup\n",
    "\n",
    "#예제 6-2 웹 페이지의 HTML 정보 가져오기\n",
    "html = driver.page_source\n",
    "soup = BeautifulSoup(html, 'html.parser')"
   ]
  },
  {
   "cell_type": "code",
   "execution_count": 4,
   "metadata": {},
   "outputs": [
    {
     "data": {
      "text/plain": [
       "47"
      ]
     },
     "execution_count": 4,
     "metadata": {},
     "output_type": "execute_result"
    }
   ],
   "source": [
    "# 예제 6-3 1페이지에 대한 무선청소기 정보 가져오기 1\n",
    "prod_items = soup.select('li.prod_item')\n",
    "len(prod_items)"
   ]
  },
  {
   "cell_type": "code",
   "execution_count": 5,
   "metadata": {
    "scrolled": true
   },
   "outputs": [
    {
     "data": {
      "text/plain": [
       "47"
      ]
     },
     "execution_count": 5,
     "metadata": {},
     "output_type": "execute_result"
    }
   ],
   "source": [
    "# 예제 6-4 1페이지에 대한 무선청소기 정보 가져오기 2 - 상위 태그를 추가해서 확인\n",
    "prod_items = soup.select('ul.product_list > li.prod_item')\n",
    "len(prod_items)"
   ]
  },
  {
   "cell_type": "code",
   "execution_count": 6,
   "metadata": {},
   "outputs": [
    {
     "data": {
      "text/plain": [
       "44"
      ]
     },
     "execution_count": 6,
     "metadata": {},
     "output_type": "execute_result"
    }
   ],
   "source": [
    "# 예제 6-5 1페이지에 대한 무선청소기 정보 가져오기 3 - 상위 태그를 추가해서 확인\n",
    "prod_items = soup.select('div.main_prodlist > ul.product_list > li.prod_item')\n",
    "len(prod_items)"
   ]
  },
  {
   "cell_type": "code",
   "execution_count": 7,
   "metadata": {},
   "outputs": [
    {
     "name": "stdout",
     "output_type": "stream",
     "text": [
      "LG전자 오브제컬렉션 코드제로 ThinQ A9S AO9571\n"
     ]
    }
   ],
   "source": [
    "# 예제 6-6 상품명 정보 가져오기\n",
    "title = prod_items[0].select('p.prod_name > a')[0].text.strip()\n",
    "print(title)"
   ]
  },
  {
   "cell_type": "code",
   "execution_count": 8,
   "metadata": {},
   "outputs": [
    {
     "name": "stdout",
     "output_type": "stream",
     "text": [
      "핸디/스틱청소기 / 핸디+스틱형 / 무선형 / 흡입+걸레겸용 / [성능] 2중터보싸이클론 / 스마트인버터모터 / 흡입력: 210W / 소비전력: 590W / [배터리] 분리형 / 리튬이온 (2개) / 충전시간: 4시간 / 사용시간: 1시간(개당) / [필터] 헤파필터 / H13급 / 5단계여과 / [기능] 자동물공급 / 배터리잔량표시 / IoT기능 / [구성] 바닥 / 물걸레 / 침구 / 솔형 / 틈새 / 올인원타워 / [부가] 알레르기인증(BAF) / 미세먼지인증(SLG) / 색상: 카밍베이지 / 무게: 2.6kg / 분리형배기필터 / 먼지통자동비움 / 크기(가로x세로x깊이): 250x1120x260mm\n"
     ]
    }
   ],
   "source": [
    "# 예제 6-7 스펙 목록 정보 가져오기\n",
    "spec_list = prod_items[0].select('div.spec_list')[0].text.strip()\n",
    "print(spec_list)"
   ]
  },
  {
   "cell_type": "code",
   "execution_count": 9,
   "metadata": {},
   "outputs": [
    {
     "name": "stdout",
     "output_type": "stream",
     "text": [
      "1146760\n"
     ]
    }
   ],
   "source": [
    "# 예제 6-8 가격 정보 가져오기\n",
    "price = prod_items[0].select('li.rank_one > p.price_sect > a > strong')[0].text.strip().replace(\",\",\"\")\n",
    "print(price)"
   ]
  },
  {
   "cell_type": "code",
   "execution_count": 10,
   "metadata": {},
   "outputs": [
    {
     "name": "stdout",
     "output_type": "stream",
     "text": [
      "44\n",
      "[['LG전자 오브제컬렉션 코드제로 ThinQ A9S AO9571', '핸디/스틱청소기 / 핸디+스틱형 / 무선형 / 흡입+걸레겸용 / [성능] 2중터보싸이클론 / 스마트인버터모터 / 흡입력: 210W / 소비전력: 590W / [배터리] 분리형 / 리튬이온 (2개) / 충전시간: 4시간 / 사용시간: 1시간(개당) / [필터] 헤파필터 / H13급 / 5단계여과 / [기능] 자동물공급 / 배터리잔량표시 / IoT기능 / [구성] 바닥 / 물걸레 / 침구 / 솔형 / 틈새 / 올인원타워 / [부가] 알레르기인증(BAF) / 미세먼지인증(SLG) / 색상: 카밍베이지 / 무게: 2.6kg / 분리형배기필터 / 먼지통자동비움 / 크기(가로x세로x깊이): 250x1120x260mm', '1146760'], ['샤오미 드리미 V10', '핸디/스틱청소기 / 핸디+스틱형 / 무선형 / 흡입전용 / [성능] 멀티싸이클론 / BLDC모터 / 흡입력: 140AW / 흡입력: 22000Pa / 소비전력: 450W / [배터리] 용량: 2500mAh / 충전시간: 3시간30분 / 사용시간: 1시간(개당) / [필터] 헤파필터 / H12급 / 5단계여과 / [구성] 바닥 / 침구 / 솔형 / 틈새 / 연장툴 / 거치대 / [부가] 먼지통용량: 0.5L / 색상: 화이트 / 무게: 1.5kg', '145200'], ['삼성전자 비스포크 제트 VS20A956A3', '핸디/스틱청소기 / 핸디+스틱형 / 무선형 / 흡입+걸레겸용 / [성능] 제트싸이클론 / 디지털인버터모터 / 흡입력: 210W / [배터리] 분리형 / 리튬이온 / 용량: 2200mAh / 충전시간: 3시간30분 / 사용시간: 1시간(개당) / [필터] 5단계여과 / [기능] 자동물공급 / 디스플레이표시창 / 배터리잔량표시 / [구성] 바닥 / 솔형 / 틈새 / 연장툴 / 거치대 / [부가] 먼지통용량: 0.5L / 물통용량: 0.15L / 알레르기인증(BAF) / 미세먼지인증(SLG) / 색상: 미드나잇블루 / 무게: 2.5kg / 먼지통자동비움 / 일체형청정스테이션 / 액세서리크래들  / 크기(가로x세로x깊이): 250x930x202mm', '711580'], ['샤오미 CLEANFLY 차량용 무선 청소기 3세대 (해외구매)', '차량용청소기 / 무선 / 흡입력: 16,800Pa / 최대출력: 120W / 헤파필터 / 스테인리스 필터 / 추가노즐: 틈새, 솔브러쉬, 연장호스 / 사용시간: 25분 / 크기: 369x72mm / 무게: 560g / 충전방식: USB C타입 / 배터리용량: 2,000mAh', '51210'], ['qDLTAS1b1K', 'qDLTAS1b1K881187', '881187'], ['샤오미 미지아 차량용 핸디 무선 청소기 (해외구매)', '차량용청소기 / 무선 / 흡입력: 13,000Pa / 최대출력: 120W / 헤파필터 / 추가노즐: 틈새, 솔브러쉬 / 사용시간: 9~30분 / 버튼 잠금 장치 / 2단 세기 조절 / 크기: 55x267mm / 무게: 500g', '35250'], ['', '', 0], ['LG전자 코드제로 A9 A9100S', '핸디/스틱청소기 / 핸디+스틱형 / 무선형 / 흡입+걸레겸용 / [성능] 2중터보싸이클론 / 인버터모터 / 흡입력: 140W / 소비전력: 450W / [배터리] 분리형 / 리튬이온 / 충전시간: 3시간30분 / 사용시간: 40분(개당) / [필터] 헤파필터 / H13급 / 5단계여과 / [기능] 배터리잔량표시 / [구성] 바닥 / 솔형 / 틈새 / 거치대 / [부가] 알레르기인증(BAF) / 미세먼지인증(SLG) / 색상: 판타지실버 / 크기(가로x세로x깊이): 250x1120x260mm', '491500'], ['삼성전자 제트 VS20T9218QDCC', '핸디/스틱청소기 / 핸디+스틱형 / 무선형 / 흡입+걸레겸용 / [성능] 싸이클론 / 인버터모터 / 흡입력: 200W / 소비전력: 550W / [배터리] 분리형 / 리튬이온 / 충전시간: 3시간30분 / 사용시간: 1시간(개당) / [필터] 헤파필터 / 5단계여과 / [기능] 디스플레이표시창 / 프리볼트 / [구성] 바닥 / 물걸레 / 솔형 / 틈새 / 연장툴 / 거치대 / 청정스테이션 / [부가] 먼지통용량: 0.5L / 알레르기인증(BAF) / 미세먼지인증(SLG) / 색상: 티탄+그레이 / 무게: 2.64kg / 크기(가로x세로x깊이): 250x1123x215mm', '553790'], ['일렉트로룩스 WELL Q6 WQ61-1OGG', '핸디/스틱청소기 / 핸디+스틱형 / 무선형 / 흡입전용 / [성능] 싸이클론 / [배터리] 리튬이온 / 충전시간: 4시간30분 / 사용시간: 45분(개당) / [필터] 5단계여과 / [기능] 브러쉬자동청소 / 셀프스탠딩 / LED라이트 / 배터리잔량표시 / [구성] 바닥 / 솔형 / 틈새 / 거치대 / [부가] 먼지통용량: 0.3L / 색상: 그라나이트그레이 / 무게: 2.65kg / 크기(가로x세로x깊이): 386x692x146mm', '178110'], ['LG전자 코드제로 ThinQ A9S AS9570', '핸디/스틱청소기 / 핸디+스틱형 / 무선형 / 흡입+걸레겸용 / [성능] 2중터보싸이클론 / 스마트인버터모터 / 흡입력: 210W / 소비전력: 590W / [배터리] 분리형 / 리튬이온 (2개) / 충전시간: 4시간 / 사용시간: 1시간(개당) / [필터] 헤파필터 / H13급 / 5단계여과 / [기능] 자동물공급 / 배터리잔량표시 / IoT기능 / [구성] 바닥 / 물걸레 / 침구 / 솔형 / 틈새 / 올인원타워 / [부가] 알레르기인증(BAF) / 색상: 블랙 / 무게: 2.6kg / 분리형배기필터 / 먼지통자동비움 / 크기(가로x세로x깊이): 250x1120x260mm', '1031990'], ['LG전자 코드제로 ThinQ A9S A9370', '핸디/스틱청소기 / 핸디+스틱형 / 무선형 / 흡입+걸레겸용 / [성능] 2중터보싸이클론 / 인버터모터 / 소비전력: 590W / [배터리] 분리형 / 리튬이온 / 충전시간: 4시간 / 사용시간: 1시간(개당) / [필터] 헤파필터 / H13급 / 5단계여과 / [기능] 자동물공급 / 디스플레이표시창 / 배터리잔량표시 / IoT기능 / [구성] 바닥 / 물걸레 / 솔형 / 틈새 / 거치대 / [부가] 미세먼지인증(SLG) / 색상: 아이언그레이 / 크기(가로x세로x깊이): 250x1120x260mm', '675770'], ['', '', 0], ['다이슨 디지털 슬림 플러피+', '핸디/스틱청소기 / 핸디+스틱형 / 무선형 / 흡입전용 / [성능] 싸이클론 / 흡입력: 100AW / [배터리] 분리형 / 충전시간: 3시간30분 / 사용시간: 40분(개당) / [필터] 5단계여과 / [기능] 디스플레이표시창 / [구성] 슬림소프트롤러 / 미니모터 / 솔형 / 스터번더트 / 틈새 / 매트리스 / 연장툴 / 거치대 / 도킹스테이션 / [부가] 먼지통용량: 0.3L / 색상: 오렌지 / 무게: 1.9kg / 크기(가로x세로x깊이): 250x1100x250mm', '561250'], ['삼성전자 비스포크 제트 VS20A957E3', '핸디/스틱청소기 / 핸디+스틱형 / 무선형 / 흡입+걸레겸용 / [성능] 제트싸이클론 / 디지털인버터모터 / 흡입력: 210W / [배터리] 분리형 / 리튬이온 (2개) / 용량: 2200mAh / 충전시간: 3시간30분 / 사용시간: 1시간(개당) / [필터] 5단계여과 / [기능] 자동물공급 / 디스플레이표시창 / 배터리잔량표시 / [구성] 바닥 / 물걸레 / 침구 / 솔형 / 틈새 / 연장툴 / 거치대 / [부가] 먼지통용량: 0.5L / 알레르기인증(BAF) / 미세먼지인증(SLG) / 색상: 미드나잇블루 / 무게: 2.5kg / 먼지통자동비움 / 일체형청정스테이션 / 액세서리크래들  / 크기(가로x세로x깊이): 250x930x202mm', '1056030'], ['휴스톰 듀얼스핀 HS-10000', '물걸레청소기 / 스틱형 / 회전식 / 무선형 / 배터리: 리튬이온 / 용량: 2750mAh / 충전시간: 2시간30분 / 사용시간: 30분(개당) / [기능] LED라이트 / 가구손상방지 / 각도조절 / 셀프스탠딩 / 배터리잔량표시 / 프리볼트 / [부가] 색상: 블랙 / 무게: 3.7kg / 모터과열방지 / 과충전방지 / 오토스토핑 / 패드: 극세사(벨크로형) / 크기(가로x세로x깊이): 410x1180x205mm', '128140'], ['베이스어스 차량용 청소기 A3 (해외구매)', '차량용청소기 / 무선 / 흡입력: 15,000Pa / 최대출력: 135W / 헤파필터 / 추가노즐: 틈새, 솔브러쉬 / LED라이트 / 사용시간: 45분 / 배터리 잔량표시 / 소음: 75dB / 충전방식: USB C타입 / 충전시간: 3~5시간 / 색상: 그린, 실버 / 크기: 296x56.5mm', '54280'], ['다이슨 V10 플러피 오리진', '핸디/스틱청소기 / 핸디+스틱형 / 무선형 / 흡입전용 / [성능] 싸이클론 / 흡입력: 151AW / [배터리] 충전시간: 3시간30분 / 사용시간: 1시간(개당) / [구성] 소프트롤러 / 미니모터 / 솔형 / 더스팅 / 틈새 / 도킹스테이션 / [부가] 먼지통용량: 0.5L / 색상: 레드 / 무게: 2.5kg / 크기(가로x세로x깊이): 256x1241x250mm', '526940'], ['', '', 0], ['오토모 ATM-H100', '핸디/스틱청소기 / 핸디형 / 무선형 / 흡입전용 / 소비전력: 70W / [배터리] 리튬이온 / 용량: 2200mAh / [필터] 2단계여과 / [구성] 솔형 / [부가] 먼지통용량: 0.12L / 색상: 화이트, 블랙 / 무게: 0.6kg', '34320'], ['LG전자 코드제로 ThinQ A9S A9300', '핸디/스틱청소기 / 핸디+스틱형 / 무선형 / 흡입+걸레겸용 / [성능] 2중터보싸이클론 / 인버터모터 / 흡입력: 200W / 소비전력: 590W / [배터리] 분리형 / 리튬이온 / 충전시간: 4시간 / 사용시간: 1시간(개당) / [필터] 헤파필터 / H13급 / 5단계여과 / [기능] 디스플레이표시창 / 배터리잔량표시 / IoT기능 / [구성] 바닥 / 솔형 / 굳은먼지 / 틈새 / 매트리스 / 거치대 / [부가] 미세먼지인증(SLG) / 색상: 아이언그레이 / 크기(가로x세로x깊이): 250x1120x260mm', '639190'], ['다이슨 V15 디텍트 컴플리트', '핸디/스틱청소기 / 핸디+스틱형 / 무선형 / 흡입전용 / [성능] 루트싸이클론 / 흡입력: 240AW / [배터리] 분리형 / 충전시간: 4시간30분 / 사용시간: 1시간(개당) / [필터] 헤파필터 / [기능] 먼지감지센서 / 디스플레이표시창 / [구성] 하이토크 / 레이저슬림플러피 / 헤어스크류 / 솔형 / 더스팅 / 스터번더트 / 틈새 / 거치대 / 도킹스테이션 / [부가] 먼지통용량: 0.54L / 색상: 옐로우/아이언/니켈 / 무게: 3kg / 크기(가로x세로x깊이): 250x1086x250mm', '1186750'], ['샤오미 TROUVER POWER 12', '핸디/스틱청소기 / 핸디+스틱형 / 무선형 / 흡입전용 / [성능] BLDC모터 / 흡입력: 150AW / 흡입력: 22000Pa / 소비전력: 450W / [배터리] 분리형 / 용량: 2500mAh / 충전시간: 3시간30분 / 사용시간: 1시간(개당) / [필터] 헤파필터 / 5단계여과 / 배터리잔량표시 / [구성] 바닥 / 침구 / 솔형 / 틈새 / 연장툴 / 거치대 / [부가] 먼지통용량: 0.4L / 색상: 실버 / 무게: 1.45kg', '168970'], ['샤오미 LYDSTO 핸디형 에어펌프 진공청소기 (해외구매)', '차량용청소기 / 무선 / 흡입력: 10,000Pa / 스테인리스 필터 / LED라이트 / 사용시간: 15~30분 / 충전방식: USB C타입 / 배터리용량: 2,500mAH / 크기: 315x55mm / 무게: 500g / 압력설정 / 최대압력: 150psi / 에어배출량(분당): 10L', '58010'], ['삼성전자 제트 VS20T9278S3CS', '핸디/스틱청소기 / 핸디+스틱형 / 무선형 / 흡입+걸레겸용 / [성능] 싸이클론 / 인버터모터 / 흡입력: 200W / 소비전력: 550W / [배터리] 분리형 / 리튬이온 (2개) / 충전시간: 3시간30분 / 사용시간: 1시간(개당) / [필터] 헤파필터 / 5단계여과 / [기능] 디스플레이표시창 / 프리볼트 / [구성] 바닥 / 물걸레 / 침구 / 솔형 / 틈새 / 연장툴 / 거치대 / 청정스테이션 / [부가] 먼지통용량: 0.5L / 미세먼지인증(SLG) / 색상: 티탄+실버 / 크기(가로x세로x깊이): 250x1136x215mm', '593990'], ['일렉트로룩스 ZB3302AK', '핸디/스틱청소기 / 핸디+스틱형 / 무선형 / 흡입전용 / [배터리] 리튬이온 / 충전시간: 4시간 / 사용시간: 42분(개당) / [필터] 4단계여과 / [기능] 브러쉬자동청소 / 셀프스탠딩 / LED라이트 / 배터리잔량표시 / [구성] 바닥 / 침구 / 틈새 / 긴틈새 / 패브릭 / 연장툴 / 거치대 / [부가] 먼지통용량: 0.42L / 알레르기인증(BAF) / 색상: 스페이스틸 / 무게: 3.22kg / 크기(가로x세로x깊이): 303x690x162mm', '128110'], ['LG전자 코드제로 ThinQ A9S A9700', '핸디/스틱청소기 / 핸디+스틱형 / 무선형 / 흡입+걸레겸용 / [성능] 2중터보싸이클론 / 인버터모터 / 흡입력: 200W / 소비전력: 590W / [배터리] 분리형 / 리튬이온 (2개) / 충전시간: 4시간 / 사용시간: 1시간(개당) / [필터] 헤파필터 / H13급 / 5단계여과 / [기능] 자동물공급 / 디스플레이표시창 / 배터리잔량표시 / IoT기능 / [구성] 바닥 / 물걸레 / 침구 / 솔형 / 굳은먼지 / 상부청소 / 틈새 / 긴틈새 / 매트리스 / 연장툴 / 거치대 / [부가] 미세먼지인증(SLG) / 색상: 판타지실버 / 크기(가로x세로x깊이): 250x1120x260mm', '867730'], ['샤오미 TROUVER TECH SOLO10', '핸디/스틱청소기 / 핸디+스틱형 / 무선형 / 흡입전용 / [성능] BLDC모터 / 흡입력: 85AW / 흡입력: 18000Pa / 소비전력: 300W / [배터리] 내장형 / 용량: 2000mAh / 충전시간: 3시간30분 / 사용시간: 48분(개당) / [필터] 5단계여과 / [기능] 디스플레이표시창 / 배터리잔량표시 / [구성] 바닥 / 솔형 / 틈새 / [부가] 먼지통용량: 0.4L / 색상: 화이트+레드 / 무게: 1.4kg', '79000'], ['삼성전자 에어본 화이트 VC-H22', '핸디/스틱청소기 / 핸디형 / 무선형 / 소비전력: 48W / [배터리] 니켈수소 / 충전시간: 8시간 / 사용시간: 10분(개당) / [부가] 무게: 0.76kg / 크기(가로x세로x깊이): 103x317x174mm', '40500'], ['DIBEA 차이슨 ALLNEW29000', '핸디/스틱청소기 / 핸디+스틱형 / 무선형 / 흡입+걸레겸용 / [성능] BLDC모터 / 흡입력: 29000Pa / 소비전력: 380W / 분리형 / 용량: 2200mAh / 충전시간: 4시간 / 사용시간: 48분(개당) / [필터] 헤파필터 / H13급 / 4단계여과 / [기능] LED라이트 / 배터리잔량표시 / [구성] 바닥 / 물걸레 / 침구 / 솔형 / 틈새 / 패브릭 / 연장툴 / 거치대 / [부가] 먼지통용량: 0.7L / 색상: 폴라나이트그레이, 미드나이트블랙 / 무게: 2.4kg / UV살균 / 크기(가로x세로x깊이): 255x1150x200mm', '219000'], ['삼성전자 비스포크 제트 VS20A957D2', '핸디/스틱청소기 / 핸디+스틱형 / 무선형 / 흡입+걸레겸용 / [성능] 제트싸이클론 / 디지털인버터모터 / 흡입력: 210W / [배터리] 분리형 / 리튬이온 (2개) / 용량: 2200mAh / 충전시간: 3시간30분 / 사용시간: 1시간(개당) / [필터] 5단계여과 / [기능] 자동물공급 / 디스플레이표시창 / 배터리잔량표시 / [구성] 바닥 / 물걸레 / 솔형 / 틈새 / 거치대 / [부가] 먼지통용량: 0.5L / 알레르기인증(BAF) / 미세먼지인증(SLG) / 색상: 우디그린 / 무게: 2.5kg / 먼지통자동비움 / 일체형청정스테이션 / 액세서리크래들  / 크기(가로x세로x깊이): 250x930x202mm', '941490'], ['한샘 트리플 플러스 HSBC-6000W', '욕실청소기 / 스틱형 / 무선형 / 소비전력: 30W / [배터리] 용량: 2000mAh / 충전시간: 4시간 / 사용시간: 1시간40분(개당) / [기능] 프리볼트 / [부가] 색상: 화이트 / 완전방수 / 브러쉬: 평면, 틈새, 스크럽', '56890'], ['삼성전자 비스포크 제트 VS20A957G3', '핸디/스틱청소기 / 핸디+스틱형 / 무선형 / 흡입+걸레겸용 / [성능] 제트싸이클론 / 디지털인버터모터 / 흡입력: 210W / [배터리] 분리형 / 리튬이온 (2개) / 용량: 2200mAh / 충전시간: 3시간30분 / 사용시간: 1시간(개당) / [필터] 5단계여과 / [기능] 자동물공급 / 디스플레이표시창 / 배터리잔량표시 / [구성] 바닥 / 물걸레 / 침구 / 펫 / 솔형 / 틈새 / 연장툴 / 거치대 / [부가] 먼지통용량: 0.5L / 알레르기인증(BAF) / 미세먼지인증(SLG) / 색상: 우디그린 / 무게: 2.5kg / 먼지통자동비움 / 일체형청정스테이션 / 액세서리크래들  / 크기(가로x세로x깊이): 250x930x202mm', '1243390'], ['샤오미 드리미 V11', '핸디/스틱청소기 / 핸디+스틱형 / 무선형 / 흡입+걸레겸용 / [성능] 멀티싸이클론 / BLDC모터 / 흡입력: 150AW / 흡입력: 25000Pa / 소비전력: 450W / [배터리] 용량: 3000mAh / 충전시간: 4시간 / 사용시간: 1시간30분(개당) / [필터] 5단계여과 / [기능] 디스플레이표시창 / [구성] 바닥 / 침구 / 솔형 / 틈새 / 연장툴 / 거치대 / [부가] 먼지통용량: 0.5L / 색상: 레드 / 무게: 1.6kg / 크기(가로x세로): 202x1226mm', '205540'], ['일렉트로룩스 퓨어 Q9 파워프로 PQ92-3BWF', '핸디/스틱청소기 / 핸디+스틱형 / 무선형 / 흡입전용 / [성능] 싸이클론 / [배터리] 리튬이온 / 충전시간: 4시간 / 사용시간: 53분(개당) / [필터] 5단계여과 / [기능] 셀프스탠딩 / LED라이트 / [구성] 바닥 / 침구 / 솔형 / 더스팅 / 틈새 / 긴틈새 / 거치대 / [부가] 먼지통용량: 0.3L / 색상: 사틴화이트 / 무게: 2.89kg / 크기(가로x세로x깊이): 256x1097x155mm', '334560'], ['샤오미 드리미 V9', '핸디/스틱청소기 / 핸디+스틱형 / 무선형 / [성능] 멀티싸이클론 / BLDC모터 / 흡입력: 120AW / 흡입력: 20000Pa / 소비전력: 400W / [배터리] 용량: 2500mAh / 충전시간: 3시간30분 / 사용시간: 60분(개당) / [필터] 헤파필터 / 5단계여과 / [구성] 바닥 / 침구 / 솔형 / 틈새 / 연장툴 / 거치대 / [부가] 먼지통용량: 0.5L / 색상: 화이트 / 무게: 1.5kg', '119490'], ['LG전자 코드제로 ThinQ A9S AS9470', '핸디/스틱청소기 / 핸디+스틱형 / 무선형 / 흡입+걸레겸용 / [성능] 2중터보싸이클론 / 스마트인버터모터 / 흡입력: 210W / 소비전력: 590W / [배터리] 분리형 / 리튬이온 (2개) / 충전시간: 4시간 / 사용시간: 1시간(개당) / [필터] 헤파필터 / H13급 / 5단계여과 / [기능] 자동물공급 / 배터리잔량표시 / IoT기능 / [구성] 바닥 / 물걸레 / 솔형 / 틈새 / 올인원타워 / [부가] 알레르기인증(BAF) / 미세먼지인증(SLG) / 색상: 아이언그레이 / 무게: 2.6kg / 일체형배기필터 / 먼지통자동비움 / 크기(가로x세로x깊이): 250x1120x260mm', '991450'], ['앱코 오엘라 네오스핀 OBC-AW09WH', '욕실청소기 / 스틱형 / 무선형 / 소비전력: 8W / [배터리] 리튬이온 / 용량: 1950mAh / 충전시간: 4~5시간 / 사용시간: 50분(개당) / [부가] 무게: 0.86kg / 생활방수 / 브러쉬: 원형, 평면, 틈새', '47690'], ['샤오미 SHUNZAO Z11', '핸디/스틱청소기 / 핸디+스틱형 / 무선형 / 흡입전용 / [성능] 싸이클론 / 흡입력: 150AW / 흡입력: 26000Pa / [배터리] 분리형 / 리튬이온 / 용량: 2500mAh / 충전시간: 3시간 / 사용시간: 1시간(개당) / [필터] 헤파필터 / 5단계여과 / [기능] 디스플레이표시창 / 배터리잔량표시 / [구성] 바닥 / 침구 / 솔형 / 틈새 / 연장툴 / 거치대 / [부가] 먼지통용량: 0.5L / 색상: 화이트', '123080'], ['지웰 벤투스 아쿠아 프로', '물걸레청소기 / 스틱형 / 물걸레+진공 / 무선형 / 배터리: 리튬이온 / 용량: 2200mAh / 충전시간: 3~4시간 / 사용시간: 30분(개당) / [기능] 물분사 / 셀프스탠딩 / 거치대 / 소비전력: 120W / [부가] 무게: 3kg / 오토클리닝', '299900'], ['무궁화전자 바로바로 MHC-100R', '핸디/스틱청소기 / 핸디형 / 무선형 / [배터리] 충전시간: 10시간 / 사용시간: 10분(개당) / [부가] 색상: 레드', '22510'], ['삼성전자 제트 VS15R8500BF', '핸디/스틱청소기 / 핸디+스틱형 / 무선형 / 흡입+걸레겸용 / [성능] 싸이클론 / 인버터모터 / 흡입력: 150W / 소비전력: 410W / [배터리] 분리형 / 리튬이온 / 충전시간: 3시간30분 / 사용시간: 40분(개당) / [필터] 헤파필터 / 5단계여과 / [기능] 디스플레이표시창 / 프리볼트 / [구성] 바닥 / 솔형 / 틈새 / 거치대 / [부가] 먼지통용량: 0.5L / 알레르기인증(BAF) / 미세먼지인증(SLG) / 색상: 틸민트 / 무게: 2.57kg / 크기(가로x세로x깊이): 250x1123x215mm', '382150'], ['샤오미 SWDK-D260', '물걸레청소기 / 스틱형 / 왕복식 / 무선형 / 배터리: 리튬이온 / 용량: 2000mAh / 충전시간: 3시간 / 사용시간: 50분(개당) / [기능] 물분사 / LED라이트 / 프리볼트 / [부가] 색상: 화이트 / 무게: 2.4kg / 110V / 변환어댑터: 필요', '67290'], ['일렉트로룩스 에르고라피도 ZB3316AK', '핸디/스틱청소기 / 핸디+스틱형 / 무선형 / 흡입전용 / [배터리] 리튬이온 / 충전시간: 4시간 / 사용시간: 48분(개당) / [필터] 4단계여과 / [기능] 브러쉬자동청소 / 셀프스탠딩 / LED라이트 / 배터리잔량표시 / [구성] 바닥 / 침구 / 틈새 / 긴틈새 / 거치대 / [부가] 먼지통용량: 0.42L / 알레르기인증(BAF) / 색상: 브론즈 / 무게: 3.28kg', '118960']]\n"
     ]
    }
   ],
   "source": [
    "# 예제 6-9 반복문으로 검색 결과의 1페이지에 대한 상품 정보 추출\n",
    "prod_data = []\n",
    "for prod_item in prod_items:\n",
    "    try: # ① 상품명 가져오기\n",
    "        title = prod_item.select('p.prod_name > a')[0].text.strip()\n",
    "    except:\n",
    "        title = ''\n",
    "    try: # ② 스펙 목록 가져오기\n",
    "        spec_list = prod_item.select('div.spec_list')[0].text.strip()\n",
    "    except:\n",
    "        spec_list = ''\n",
    "    try: # ③ 가격 정보 가져오기 \n",
    "        price = prod_item.select('li.rank_one > p.price_sect > a > strong')[0].text.strip().replace(\",\",\"\")\n",
    "    except:\n",
    "        price = 0\n",
    "    prod_data.append([title, spec_list, price])\n",
    "print(len(prod_data))\n",
    "print(prod_data)"
   ]
  },
  {
   "cell_type": "code",
   "execution_count": 11,
   "metadata": {},
   "outputs": [],
   "source": [
    "# 예제 6-10 상품 정보 태그에서 원하는 정보를 추출하는 함수\n",
    "def get_prod_items(prod_items):\n",
    "    prod_data = []\n",
    "    for prod_item in prod_items:\n",
    "         # ① 상품명 가져오기\n",
    "        try:\n",
    "            title = prod_item.select('p.prod_name > a')[0].text.strip()\n",
    "        except:\n",
    "            title = ''\n",
    "        # ② 스펙 목록 가져오기\n",
    "        try: \n",
    "            spec_list = prod_item.select('div.spec_list')[0].text.strip()\n",
    "        except:\n",
    "            spec_list = ''\n",
    "        # ③ 가격 정보 가져오기 \n",
    "        try: \n",
    "            price = int(prod_item.select('li.rank_one > p.price_sect > a > strong')[0].text.strip().replace(\",\",\"\"))\n",
    "        except:\n",
    "            price = 0\n",
    "        prod_data.append([title, spec_list, price])\n",
    "    return prod_data"
   ]
  },
  {
   "cell_type": "code",
   "execution_count": 12,
   "metadata": {},
   "outputs": [
    {
     "name": "stdout",
     "output_type": "stream",
     "text": [
      "44\n"
     ]
    }
   ],
   "source": [
    "# 예제 6-11 상품 정보를 가져오는 함수 테스트\n",
    "prod_items = soup.select('div.main_prodlist > ul.product_list > li.prod_item')\n",
    "prod_data = get_prod_items(prod_items)\n",
    "print(len(prod_data))"
   ]
  },
  {
   "cell_type": "markdown",
   "metadata": {},
   "source": [
    "# 6.2  데이터 수집 2 - 여러 페이지에 걸친 다나와 검색 페이지 크롤링\n",
    "\n",
    "현재 다나와 검색 결과는 한 페이지당 30개씩 상품 정보를 보여주고 있다.\n",
    "\n",
    "2 페이지를 선택했을 때의 변하는 URL 주소를 잘 확인해야 한다"
   ]
  },
  {
   "cell_type": "markdown",
   "metadata": {},
   "source": [
    "### 6.2.1 다나와 검색 결과 페이지 URL 분석"
   ]
  },
  {
   "cell_type": "code",
   "execution_count": 13,
   "metadata": {},
   "outputs": [
    {
     "name": "stdout",
     "output_type": "stream",
     "text": [
      "http://search.danawa.com/dsearch.php?query=무선청소기&volumeType=allvs&page=1&limit=30&sort=saveDESC&list=list&boost=true&addDelivery=N&tab=goods&tab=goods\n"
     ]
    }
   ],
   "source": [
    "# 예제 6-12 다나와 검색 URL을 만들어주는 함수 \n",
    "def get_search_page_url(keyword, page):\n",
    "    return 'http://search.danawa.com/dsearch.php?query={}&volumeType=allvs&page={}&limit=30&sort=saveDESC&list=list&boost=true&addDelivery=N&tab=goods&tab=goods'.format(keyword, page)\n",
    "\n",
    "keyword = '무선청소기'\n",
    "page = 1\n",
    "url = get_search_page_url(keyword, page)\n",
    "print(url)\n"
   ]
  },
  {
   "cell_type": "markdown",
   "metadata": {},
   "source": [
    "### 6.2.2 주피터 노트북의 진행표시줄 처리 \n",
    "\n",
    "시간이 소요되는 진행을 확인하기 위해 표시한다."
   ]
  },
  {
   "cell_type": "code",
   "execution_count": 14,
   "metadata": {},
   "outputs": [],
   "source": [
    "# 예제 6-13 tqdm 라이브러리 설치 \n",
    "# ! pip install tqdm"
   ]
  },
  {
   "cell_type": "code",
   "execution_count": 15,
   "metadata": {},
   "outputs": [],
   "source": [
    "# # 예제 6-14 tqdm 사용법 \n",
    "# import time\n",
    "# from tqdm import tqdm_notebook\n",
    "# total_page = 10\n",
    "# for page in tqdm_notebook(range(1, total_page + 1)):\n",
    "#     # 페이지가 로딩 완료되기 위한 시간을 5초로 준다. \n",
    "#     time.sleep(5)"
   ]
  },
  {
   "cell_type": "markdown",
   "metadata": {},
   "source": [
    "### 6.2.3 여러 페이지에 걸친 상품 정보 수집"
   ]
  },
  {
   "cell_type": "code",
   "execution_count": 16,
   "metadata": {},
   "outputs": [
    {
     "name": "stderr",
     "output_type": "stream",
     "text": [
      "<ipython-input-16-45c15c0b9afb>:14: TqdmDeprecationWarning: This function will be removed in tqdm==5.0.0\n",
      "Please use `tqdm.notebook.tqdm` instead of `tqdm.tqdm_notebook`\n",
      "  for page in tqdm_notebook(range(1, total_page + 1)):\n"
     ]
    },
    {
     "data": {
      "application/vnd.jupyter.widget-view+json": {
       "model_id": "22c7817b163a4f2991e955bc7e27734f",
       "version_major": 2,
       "version_minor": 0
      },
      "text/plain": [
       "  0%|          | 0/10 [00:00<?, ?it/s]"
      ]
     },
     "metadata": {},
     "output_type": "display_data"
    }
   ],
   "source": [
    "# 예제 6-15 실전 다나와 크롤링\n",
    "from selenium import webdriver\n",
    "import time\n",
    "from bs4 import BeautifulSoup\n",
    "from tqdm import tqdm_notebook\n",
    "driver = webdriver.Chrome('D:/MyClass/Python/cWebConn/4_selenium/webdriver/chromedriver.exe')\n",
    "\n",
    "# 암묵적으로 웹 자원 로드를 위해 3초까지 기다림\n",
    "driver.implicitly_wait(3)\n",
    "keyword = '무선청소기'\n",
    "total_page = 10\n",
    "prod_data_total = []\n",
    "# 진행 정도를 표현하는 tqdm을 적용 \n",
    "for page in tqdm_notebook(range(1, total_page + 1)):\n",
    "    # ① 검색 페이지 이동\n",
    "    url = get_search_page_url(keyword, page)\n",
    "    driver.get(url)\n",
    "    # 페이지가 로딩 완료되기 위한 시간으로 5초를 할당\n",
    "    time.sleep(5)\n",
    "    \n",
    "    # ② 현재 페이지의 HTML 정보 가져오기\n",
    "    html = driver.page_source\n",
    "    soup = BeautifulSoup(html, 'html.parser')\n",
    "    \n",
    "    # ③ 상품 정보 추출\n",
    "    prod_items = soup.select('div#productListArea > div.main_prodlist > ul.product_list > li.prod_item')\n",
    "    prod_item_list = get_prod_items(prod_items)\n",
    "    # ④ 추출 데이터 저장\n",
    "    prod_data_total = prod_data_total + prod_item_list\n"
   ]
  },
  {
   "cell_type": "markdown",
   "metadata": {},
   "source": [
    "### 6.2.4 수집 데이터 저장 "
   ]
  },
  {
   "cell_type": "code",
   "execution_count": 17,
   "metadata": {},
   "outputs": [],
   "source": [
    "# 예제 6-16 데이터 저장\n",
    "import pandas as pd\n",
    "data = pd.DataFrame(prod_data_total)\n",
    "data.columns = ['상품명', '스펙 목록', '가격']\n",
    "data.to_excel('./files/3_1_danawa_crawling_result.xlsx', index = False)"
   ]
  },
  {
   "cell_type": "code",
   "execution_count": null,
   "metadata": {},
   "outputs": [],
   "source": []
  }
 ],
 "metadata": {
  "kernelspec": {
   "display_name": "Python 3 (ipykernel)",
   "language": "python",
   "name": "python3"
  },
  "language_info": {
   "codemirror_mode": {
    "name": "ipython",
    "version": 3
   },
   "file_extension": ".py",
   "mimetype": "text/x-python",
   "name": "python",
   "nbconvert_exporter": "python",
   "pygments_lexer": "ipython3",
   "version": "3.9.7"
  }
 },
 "nbformat": 4,
 "nbformat_minor": 2
}
