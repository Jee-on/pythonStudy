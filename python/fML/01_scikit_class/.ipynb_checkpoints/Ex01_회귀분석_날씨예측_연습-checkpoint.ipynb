{
 "cells": [
  {
   "cell_type": "markdown",
   "metadata": {},
   "source": [
    "###  1. 기상청 데이타 준비\n",
    "\n",
    "\n",
    "+ https://data.kma.go.kr  >  데이터 > 기상관측 > 지상 >  종관기상관측(ASOS)\n",
    "\n",
    "    - 자료형태 : 일 자료\n",
    "    - 날짜 : 10년 데이타 : 2010 01 01 ~ 2019 12 31\n",
    "    - 지점 : 서울\n",
    "    - 기온 : 평균 기온\n",
    "    \n",
    "    \n",
    "+ weather 폴더 안에 'raw.csv' 파일로 저장    "
   ]
  },
  {
   "cell_type": "markdown",
   "metadata": {},
   "source": [
    "### 2. 데이타 정리\n",
    "\n",
    "+ raw.csv 파일을 읽어서 아래와 같이 가공하여 data.csv 파일로 저장\n",
    "\n",
    "\n",
    "        연,월,일,기온,품질,균질\n",
    "        2006,1,1,3.6,8,1\n",
    "        2006,1,2,4,8,1\n",
    "        2006,1,3,3.7,8,1\n",
    "        2006,1,4,4,8,1\n",
    "        2006,1,5,3.6,8,1\n",
    "        2006,1,6,2.1,8,1\n",
    "        ....\n",
    "       \n",
    "        [주의] \n",
    "        기존에 생성된 csv 파일이 EUC-KR인 경우가 많기에 문자셋 지정한다.\n",
    "        그러나 저장하는 data.csv 파일은 UTF-8로 문자셋을 지정하여 저장한다."
   ]
  },
  {
   "cell_type": "code",
   "execution_count": null,
   "metadata": {},
   "outputs": [],
   "source": [
    "'''\n",
    "in_file = \"../data/weather/raw.csv\"\n",
    "out_file = \"../data/weather/data.csv\"\n",
    "\n",
    "# CSV 파일을 한 줄 씩 읽어 들이기 ---(*1)\n",
    "with open(in_file, \"rt\", encoding=\"EUC_KR\") as fr:\n",
    "    lines = fr.readlines()\n",
    "print(type(lines))\n",
    "print(lines[:5])\n",
    "    \n",
    "# 기존의 데이터를 분리해서 가공하기 ---(*2)\n",
    "#       - 기존 데이타에서 5줄을 버리고 앞에 [\"연,월,일,기온,품질,균질\\n\"] 붙이고자\n",
    "lines = [\"연,월,일,기온,품질,균질\\n\"] + lines[5:]\n",
    "print(lines[:2])\n",
    "\n",
    "\n",
    "#       - /를 , 으로 변경\n",
    "#       map( function, list ) :  list 각각의 요소에 함수를 적용\n",
    "lines = map(lambda v: v.replace('/', ','), lines)\n",
    "print(type(lines))  # : 여기서 lines은 map 객체임\n",
    "\n",
    "# \"\".join(lines) : map 객체를 str 형태로\n",
    "# strip()은 문자열을 처음과 끝에있는 공백문자를 제거\n",
    "result = \"\".join(lines).strip()\n",
    "# print(result)\n",
    "\n",
    "\n",
    "# 결과를 파일에 출력하기 ---(*3)\n",
    "with open(out_file, \"wt\", encoding=\"utf-8\") as fw:\n",
    "    fw.write(result)\n",
    "    print(\"saved.\")\n",
    "'''"
   ]
  },
  {
   "cell_type": "code",
   "execution_count": null,
   "metadata": {},
   "outputs": [],
   "source": [
    "\n"
   ]
  },
  {
   "cell_type": "markdown",
   "metadata": {},
   "source": [
    "### 3.  학습 데이타와 테스트 데이타 만들기 \n",
    "\n",
    "+ 예를 들어 2010년부터 2019년 데이타까지 있다면\n",
    "\n",
    "\n",
    "        2006년~2015년 데이타는 학습데이타로\n",
    "        2016년 데이타는 테스트데이타로 \n",
    "\n",
    "\n",
    "\n",
    "\n",
    "\n",
    "+ 과거 6일의 데이터를 기반으로 학습할 데이터 만들기\n",
    "\n",
    "        예를 들어 현재 7일이라면 앞에 1일부터 6일까지는 학습데이타(X)가 되고 7일 데이타는 라벨(Y)가 된다."
   ]
  },
  {
   "cell_type": "code",
   "execution_count": 1,
   "metadata": {
    "scrolled": true
   },
   "outputs": [],
   "source": [
    "from sklearn.linear_model import LinearRegression\n",
    "import pandas as pd\n",
    "import numpy as np\n",
    "import matplotlib.pyplot as plt\n",
    "\n",
    "# 기온 데이터 읽어 들이기\n",
    "df = pd.read_csv('../data/weather/data.csv', encoding=\"utf-8\")\n",
    "\n",
    "# 데이터를 학습 전용과 테스트 전용으로 분리하기\n",
    "train_year = (df[\"연\"] <= 2015)\n",
    "test_year = (df[\"연\"] >= 2016)\n",
    "interval = 6\n",
    "\n",
    "# 과거 6일의 데이터를 기반으로 학습할 데이터 만들기 \n",
    "def make_data(data):\n",
    "    x = [] # 학습 데이터\n",
    "    y = [] # 결과\n",
    "    temps = list(data[\"기온\"])\n",
    "\n",
    "    # 어렵게 구현했네\n",
    "    for i in range(len(temps)):\n",
    "        if i < interval:  continue\n",
    "        y.append(temps[i])\n",
    "        xa = []\n",
    "        for p in range(interval):\n",
    "            d = i + p - interval\n",
    "            xa.append(temps[d])\n",
    "        x.append(xa)\n",
    "    return (x, y)\n",
    "\n",
    "# 2006~2015 데이터에서 1~6일 데이터를 훈련데이터\n",
    "# 2006~2015 데이터에서 7일 데이터를 훈련레이블(답)\n",
    "train_x, train_y = make_data(df[train_year])\n",
    "\n",
    "# 2016~ 데이터에서 1~6일 데이터를 테스트데이터\n",
    "# 2016~ 데이터에서 7일 데이터를 테스트레이블(답)\n",
    "test_x, test_y = make_data(df[test_year])"
   ]
  },
  {
   "cell_type": "markdown",
   "metadata": {},
   "source": [
    "### 4. 선형 회귀 분석하기 ( LinearRegression )을 이용하여 예측하기\n",
    "\n",
    "학습 후 예측값 (pre_y) 지정"
   ]
  },
  {
   "cell_type": "code",
   "execution_count": 2,
   "metadata": {},
   "outputs": [
    {
     "data": {
      "text/html": [
       "<style>#sk-container-id-1 {color: black;background-color: white;}#sk-container-id-1 pre{padding: 0;}#sk-container-id-1 div.sk-toggleable {background-color: white;}#sk-container-id-1 label.sk-toggleable__label {cursor: pointer;display: block;width: 100%;margin-bottom: 0;padding: 0.3em;box-sizing: border-box;text-align: center;}#sk-container-id-1 label.sk-toggleable__label-arrow:before {content: \"▸\";float: left;margin-right: 0.25em;color: #696969;}#sk-container-id-1 label.sk-toggleable__label-arrow:hover:before {color: black;}#sk-container-id-1 div.sk-estimator:hover label.sk-toggleable__label-arrow:before {color: black;}#sk-container-id-1 div.sk-toggleable__content {max-height: 0;max-width: 0;overflow: hidden;text-align: left;background-color: #f0f8ff;}#sk-container-id-1 div.sk-toggleable__content pre {margin: 0.2em;color: black;border-radius: 0.25em;background-color: #f0f8ff;}#sk-container-id-1 input.sk-toggleable__control:checked~div.sk-toggleable__content {max-height: 200px;max-width: 100%;overflow: auto;}#sk-container-id-1 input.sk-toggleable__control:checked~label.sk-toggleable__label-arrow:before {content: \"▾\";}#sk-container-id-1 div.sk-estimator input.sk-toggleable__control:checked~label.sk-toggleable__label {background-color: #d4ebff;}#sk-container-id-1 div.sk-label input.sk-toggleable__control:checked~label.sk-toggleable__label {background-color: #d4ebff;}#sk-container-id-1 input.sk-hidden--visually {border: 0;clip: rect(1px 1px 1px 1px);clip: rect(1px, 1px, 1px, 1px);height: 1px;margin: -1px;overflow: hidden;padding: 0;position: absolute;width: 1px;}#sk-container-id-1 div.sk-estimator {font-family: monospace;background-color: #f0f8ff;border: 1px dotted black;border-radius: 0.25em;box-sizing: border-box;margin-bottom: 0.5em;}#sk-container-id-1 div.sk-estimator:hover {background-color: #d4ebff;}#sk-container-id-1 div.sk-parallel-item::after {content: \"\";width: 100%;border-bottom: 1px solid gray;flex-grow: 1;}#sk-container-id-1 div.sk-label:hover label.sk-toggleable__label {background-color: #d4ebff;}#sk-container-id-1 div.sk-serial::before {content: \"\";position: absolute;border-left: 1px solid gray;box-sizing: border-box;top: 0;bottom: 0;left: 50%;z-index: 0;}#sk-container-id-1 div.sk-serial {display: flex;flex-direction: column;align-items: center;background-color: white;padding-right: 0.2em;padding-left: 0.2em;position: relative;}#sk-container-id-1 div.sk-item {position: relative;z-index: 1;}#sk-container-id-1 div.sk-parallel {display: flex;align-items: stretch;justify-content: center;background-color: white;position: relative;}#sk-container-id-1 div.sk-item::before, #sk-container-id-1 div.sk-parallel-item::before {content: \"\";position: absolute;border-left: 1px solid gray;box-sizing: border-box;top: 0;bottom: 0;left: 50%;z-index: -1;}#sk-container-id-1 div.sk-parallel-item {display: flex;flex-direction: column;z-index: 1;position: relative;background-color: white;}#sk-container-id-1 div.sk-parallel-item:first-child::after {align-self: flex-end;width: 50%;}#sk-container-id-1 div.sk-parallel-item:last-child::after {align-self: flex-start;width: 50%;}#sk-container-id-1 div.sk-parallel-item:only-child::after {width: 0;}#sk-container-id-1 div.sk-dashed-wrapped {border: 1px dashed gray;margin: 0 0.4em 0.5em 0.4em;box-sizing: border-box;padding-bottom: 0.4em;background-color: white;}#sk-container-id-1 div.sk-label label {font-family: monospace;font-weight: bold;display: inline-block;line-height: 1.2em;}#sk-container-id-1 div.sk-label-container {text-align: center;}#sk-container-id-1 div.sk-container {/* jupyter's `normalize.less` sets `[hidden] { display: none; }` but bootstrap.min.css set `[hidden] { display: none !important; }` so we also need the `!important` here to be able to override the default hidden behavior on the sphinx rendered scikit-learn.org. See: https://github.com/scikit-learn/scikit-learn/issues/21755 */display: inline-block !important;position: relative;}#sk-container-id-1 div.sk-text-repr-fallback {display: none;}</style><div id=\"sk-container-id-1\" class=\"sk-top-container\"><div class=\"sk-text-repr-fallback\"><pre>LinearRegression()</pre><b>In a Jupyter environment, please rerun this cell to show the HTML representation or trust the notebook. <br />On GitHub, the HTML representation is unable to render, please try loading this page with nbviewer.org.</b></div><div class=\"sk-container\" hidden><div class=\"sk-item\"><div class=\"sk-estimator sk-toggleable\"><input class=\"sk-toggleable__control sk-hidden--visually\" id=\"sk-estimator-id-1\" type=\"checkbox\" checked><label for=\"sk-estimator-id-1\" class=\"sk-toggleable__label sk-toggleable__label-arrow\">LinearRegression</label><div class=\"sk-toggleable__content\"><pre>LinearRegression()</pre></div></div></div></div></div>"
      ],
      "text/plain": [
       "LinearRegression()"
      ]
     },
     "execution_count": 2,
     "metadata": {},
     "output_type": "execute_result"
    }
   ],
   "source": [
    "lr = LinearRegression() # 모델\n",
    "lr.fit(train_x, train_y)# 학습\n"
   ]
  },
  {
   "cell_type": "code",
   "execution_count": 3,
   "metadata": {},
   "outputs": [
    {
     "name": "stdout",
     "output_type": "stream",
     "text": [
      "훈련 세트점수 : 0.94\n",
      "테스트 세트점수 : 0.92\n"
     ]
    }
   ],
   "source": [
    "# [참고] 검증하기\n",
    "print('훈련 세트점수 : {:.2f}'.format( lr.score(train_x, train_y)))\n",
    "print('테스트 세트점수 : {:.2f}'.format( lr.score(test_x, test_y)))"
   ]
  },
  {
   "cell_type": "markdown",
   "metadata": {},
   "source": [
    "### 5. 결과를 그래프로 그리기 \n",
    "\n",
    "결과(test_y)와 예측(pre_y)을 그래프로 표현하기\n",
    "\n",
    "+ test_x : 테스트하는 데이터\n",
    "+ test_y : 테스트하는 답(레이블)\n",
    "+ pre_y  : 모델을 통해 예측한 값"
   ]
  },
  {
   "cell_type": "code",
   "execution_count": 4,
   "metadata": {},
   "outputs": [
    {
     "data": {
      "text/plain": [
       "[<matplotlib.lines.Line2D at 0x18001c00eb0>]"
      ]
     },
     "execution_count": 4,
     "metadata": {},
     "output_type": "execute_result"
    },
    {
     "data": {
      "image/png": "[encoded data removed]",
      "text/plain": [
       "<Figure size 640x480 with 1 Axes>"
      ]
     },
     "metadata": {},
     "output_type": "display_data"
    }
   ],
   "source": [
    "pre_y = lr.predict(test_x)\n",
    "\n",
    "plt.plot(test_y, c='r')\n",
    "plt.plot(pre_y, c='b')"
   ]
  },
  {
   "cell_type": "markdown",
   "metadata": {},
   "source": [
    "### 6. 결과 평가하기\n",
    "\n",
    "예측 기온과 실제 기온의 차이를 구해서 확인\n",
    "\n",
    "pre_y - test_y\n",
    "\n",
    "예측과 실제 차이의 평균과 최대 오차값을 구해서 확인한다\n",
    "\n",
    "아래 결과를 확인하면 예측과 실제 차이의 평균은 1.66도 정도이고 최대 오차값은 8.47 정도이다"
   ]
  },
  {
   "cell_type": "code",
   "execution_count": null,
   "metadata": {},
   "outputs": [],
   "source": []
  },
  {
   "cell_type": "markdown",
   "metadata": {},
   "source": [
    "이번주 날씨를 입력하여 다음 7일차 날씨 온도 예측"
   ]
  },
  {
   "cell_type": "code",
   "execution_count": 8,
   "metadata": {},
   "outputs": [
    {
     "data": {
      "text/plain": [
       "array([8.59997993])"
      ]
     },
     "execution_count": 8,
     "metadata": {},
     "output_type": "execute_result"
    }
   ],
   "source": [
    "newdata = np.array([[4,8,9,11,11,8]])\n",
    "lr.predict(newdata)"
   ]
  },
  {
   "cell_type": "code",
   "execution_count": 6,
   "metadata": {},
   "outputs": [
    {
     "data": {
      "text/plain": [
       "[7.5, 7.3, 9.3, 9.2, 10.9, 8.9]"
      ]
     },
     "execution_count": 6,
     "metadata": {},
     "output_type": "execute_result"
    }
   ],
   "source": [
    "test_x[0]"
   ]
  },
  {
   "cell_type": "code",
   "execution_count": 7,
   "metadata": {},
   "outputs": [
    {
     "data": {
      "text/plain": [
       "8.7"
      ]
     },
     "execution_count": 7,
     "metadata": {},
     "output_type": "execute_result"
    }
   ],
   "source": [
    "test_y[0]"
   ]
  },
  {
   "cell_type": "code",
   "execution_count": null,
   "metadata": {},
   "outputs": [],
   "source": [
    "predict_0 = lr.predict(np.array[[7.5, 7.3, 9.3, 9.2, 10.9, 8.9]])"
   ]
  },
  {
   "cell_type": "markdown",
   "metadata": {},
   "source": [
    "[참고도서] 파이썬을 이용한 머신러닝, 딥러닝 실전 앱 개발 (위키북스) "
   ]
  }
 ],
 "metadata": {
  "kernelspec": {
   "display_name": "Python 3 (ipykernel)",
   "language": "python",
   "name": "python3"
  },
  "language_info": {
   "codemirror_mode": {
    "name": "ipython",
    "version": 3
   },
   "file_extension": ".py",
   "mimetype": "text/x-python",
   "name": "python",
   "nbconvert_exporter": "python",
   "pygments_lexer": "ipython3",
   "version": "3.10.9"
  }
 },
 "nbformat": 4,
 "nbformat_minor": 2
}
